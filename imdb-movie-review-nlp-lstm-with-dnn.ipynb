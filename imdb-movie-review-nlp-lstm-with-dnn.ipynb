{
 "cells": [
  {
   "cell_type": "markdown",
   "execution_count": null,
   "metadata": {},
   "source": [
    "# Importing necessary libraries\n"
   ]
  },
  {
   "cell_type": "code",
   "execution_count": 1,
   "metadata": {
    "_cell_guid": "b1076dfc-b9ad-4769-8c92-a6c4dae69d19",
    "_uuid": "8f2839f25d086af736a60e9eeb907d3b93b6e0e5"
   },
   "outputs": [],
   "source": [
    "import tensorflow as tf\n",
    "import pandas as pd\n",
    "import numpy as np\n",
    "from tensorflow.keras.preprocessing.text import Tokenizer\n",
    "from tensorflow.keras.preprocessing.sequence import pad_sequences\n",
    "from sklearn.preprocessing import LabelEncoder\n",
    "from sklearn.model_selection import train_test_split\n",
    "import matplotlib.pyplot as plt\n",
    "import seaborn as sns\n",
    "import tensorflow_datasets as tfds"
   ]
  },
  {
   "cell_type": "markdown",
   "execution_count": null,
   "metadata": {},
   "source": [
    "# Visualizing Data\n",
    "As we can see our data is distributed evenly 25k positive reviews and 25k negative reviews count plot is shown in the figure."
   ]
  },
  {
   "cell_type": "code",
   "execution_count": 2,
   "metadata": {
    "_cell_guid": "79c7e3d0-c299-4dcb-8224-4455121ee9b0",
    "_uuid": "d629ff2d2480ee46fbb7e2d37f6b5fab8052498a"
   },
   "outputs": [
    {
     "name": "stdout",
     "output_type": "stream",
     "text": [
      "Positive reviews are 25000 and negative reviews are 25000 of total 50000 \n"
     ]
    },
    {
     "data": {
      "image/png": "[encoded data removed]",
      "text/plain": [
       "<Figure size 432x288 with 1 Axes>"
      ]
     },
     "metadata": {
      "needs_background": "light"
     },
     "output_type": "display_data"
    }
   ],
   "source": [
    "dataset = pd.read_csv('../input/imdb-dataset-of-50k-movie-reviews/IMDB Dataset.csv')\n",
    "negative = len(dataset[dataset['sentiment']=='positive'])\n",
    "positive = len(dataset) - negative\n",
    "sns.countplot(dataset['sentiment'])\n",
    "print('Positive reviews are {} and negative reviews are {} of total {} '.format(positive,negative,len(dataset)))"
   ]
  },
  {
   "cell_type": "markdown",
   "execution_count": null,
   "metadata": {},
   "source": [
    "Converting the labels positve and negative as 1,0 so that they can be fed to the neural network to predict whether the given review is a positive or negative. Splitting of data 80% for the training and remaining 20% for testing."
   ]
  },
  {
   "cell_type": "code",
   "execution_count": 3,
   "metadata": {},
   "outputs": [],
   "source": [
    "le = LabelEncoder()\n",
    "training_reviews,testing_reviews,training_labels,testing_labels  = train_test_split(dataset['review'].values,dataset['sentiment'].values,test_size = 0.2)\n",
    "training_labels = le.fit_transform(training_labels)\n",
    "testing_labels = le.fit_transform(testing_labels)"
   ]
  },
  {
   "cell_type": "markdown",
   "execution_count": null,
   "metadata": {},
   "source": [
    "# Pre-Processing The Text\n",
    "Using tokenizer to produce token for a given word and taking maximum length of 200 character of a review and after we simply truncate the input review and then padded the input to max len of 200. "
   ]
  },
  {
   "cell_type": "code",
   "execution_count": 4,
   "metadata": {},
   "outputs": [
    {
     "name": "stdout",
     "output_type": "stream",
     "text": [
      "Total Unique Words : 112195\n"
     ]
    }
   ],
   "source": [
    "tokenizer = Tokenizer(num_words=10000,oov_token='<OOV>')\n",
    "tokenizer.fit_on_texts(training_reviews)\n",
    "word_index = tokenizer.word_index\n",
    "training_sequence = tokenizer.texts_to_sequences(training_reviews)\n",
    "testing_sequence = tokenizer.texts_to_sequences(testing_reviews)\n",
    "train_pad_sequence = pad_sequences(training_sequence,maxlen = 200,truncating= 'post',padding = 'pre')\n",
    "test_pad_sequence = pad_sequences(testing_sequence,maxlen = 200,truncating= 'post',padding = 'pre')\n",
    "print('Total Unique Words : {}'.format(len(word_index)))"
   ]
  },
  {
   "cell_type": "markdown",
   "execution_count": null,
   "metadata": {},
   "source": [
    "# Using glove vectors for embedding"
   ]
  },
  {
   "cell_type": "code",
   "execution_count": 5,
   "metadata": {},
   "outputs": [],
   "source": [
    "embedded_words = {}\n",
    "with open('../input/glove-global-vectors-for-word-representation/glove.6B.200d.txt') as file:\n",
    "    for line in file:\n",
    "        words, coeff = line.split(maxsplit=1)\n",
    "        coeff = np.array(coeff.split(),dtype = float)\n",
    "        embedded_words[words] = coeff"
   ]
  },
  {
   "cell_type": "code",
   "execution_count": 6,
   "metadata": {},
   "outputs": [],
   "source": [
    "embedding_matrix = np.zeros((len(word_index) + 1,200))\n",
    "for word, i in word_index.items():\n",
    "    embedding_vector = embedded_words.get(word)\n",
    "    if embedding_vector is not None:\n",
    "        embedding_matrix[i] = embedding_vector"
   ]
  },
  {
   "cell_type": "markdown",
   "execution_count": null,
   "metadata": {},
   "source": [
    "# Creating The Model\n",
    "layer1: Embedding Layer using glove weights \n",
    "\n",
    "layer2: Using a Bidirectional LSTM\n",
    "\n",
    "layer3: A dropout Layer\n",
    "\n",
    "layer4: A Dense layer of 256 neurons with 'relu' activation\n",
    "\n",
    "layer5: A Dense Layer of 128 neurons with 'relu' activation\n",
    "\n",
    "layer6: Again a dropout layer. \n",
    "\n",
    "layer7: Sigmoid activation layer to classify it positive and negative.\n"
   ]
  },
  {
   "cell_type": "code",
   "execution_count": 7,
   "metadata": {},
   "outputs": [],
   "source": [
    "model = tf.keras.Sequential([tf.keras.layers.Embedding(len(word_index) + 1,200,weights=[embedding_matrix],input_length=200,\n",
    "                            trainable=False),\n",
    "                             tf.keras.layers.Bidirectional(tf.keras.layers.LSTM(64)),\n",
    "                             tf.keras.layers.Dropout(0.5),\n",
    "                             tf.keras.layers.Dense(256,activation = 'relu',),\n",
    "                             tf.keras.layers.Dense(128,activation = 'relu'),\n",
    "                             tf.keras.layers.Dropout(0.5),\n",
    "                             tf.keras.layers.Dense(1,activation = tf.nn.sigmoid)])"
   ]
  },
  {
   "cell_type": "code",
   "execution_count": 8,
   "metadata": {},
   "outputs": [
    {
     "name": "stdout",
     "output_type": "stream",
     "text": [
      "Model: \"sequential\"\n",
      "_________________________________________________________________\n",
      "Layer (type)                 Output Shape              Param #   \n",
      "=================================================================\n",
      "embedding (Embedding)        (None, 200, 200)          22439200  \n",
      "_________________________________________________________________\n",
      "bidirectional (Bidirectional (None, 128)               135680    \n",
      "_________________________________________________________________\n",
      "dropout (Dropout)            (None, 128)               0         \n",
      "_________________________________________________________________\n",
      "dense (Dense)                (None, 256)               33024     \n",
      "_________________________________________________________________\n",
      "dense_1 (Dense)              (None, 128)               32896     \n",
      "_________________________________________________________________\n",
      "dropout_1 (Dropout)          (None, 128)               0         \n",
      "_________________________________________________________________\n",
      "dense_2 (Dense)              (None, 1)                 129       \n",
      "=================================================================\n",
      "Total params: 22,640,929\n",
      "Trainable params: 201,729\n",
      "Non-trainable params: 22,439,200\n",
      "_________________________________________________________________\n"
     ]
    }
   ],
   "source": [
    "model.summary()"
   ]
  },
  {
   "cell_type": "code",
   "execution_count": 9,
   "metadata": {},
   "outputs": [
    {
     "name": "stdout",
     "output_type": "stream",
     "text": [
      "Epoch 1/30\n",
      "1250/1250 [==============================] - 126s 101ms/step - loss: 0.5315 - accuracy: 0.7350 - val_loss: 0.4167 - val_accuracy: 0.8080\n",
      "Epoch 2/30\n",
      "1250/1250 [==============================] - 126s 101ms/step - loss: 0.3788 - accuracy: 0.8369 - val_loss: 0.3422 - val_accuracy: 0.8542\n",
      "Epoch 3/30\n",
      "1250/1250 [==============================] - 129s 104ms/step - loss: 0.3331 - accuracy: 0.8589 - val_loss: 0.3089 - val_accuracy: 0.8675\n",
      "Epoch 4/30\n",
      "1250/1250 [==============================] - 126s 101ms/step - loss: 0.1410 - accuracy: 0.9462 - val_loss: 0.3848 - val_accuracy: 0.8694\n",
      "Epoch 13/30\n",
      "1250/1250 [==============================] - 131s 104ms/step - loss: 0.1286 - accuracy: 0.9521 - val_loss: 0.4034 - val_accuracy: 0.8746\n",
      "Epoch 14/30\n",
      "1250/1250 [==============================] - 126s 101ms/step - loss: 0.1118 - accuracy: 0.9589 - val_loss: 0.4032 - val_accuracy: 0.8748\n",
      "Epoch 15/30\n",
      "1250/1250 [==============================] - 126s 101ms/step - loss: 0.1003 - accuracy: 0.9635 - val_loss: 0.4070 - val_accuracy: 0.8707\n",
      "Epoch 16/30\n",
      "1250/1250 [==============================] - 127s 102ms/step - loss: 0.0868 - accuracy: 0.9681 - val_loss: 0.4725 - val_accuracy: 0.8684\n",
      "Epoch 17/30\n",
      "1250/1250 [==============================] - 126s 101ms/step - loss: 0.0780 - accuracy: 0.9715 - val_loss: 0.5494 - val_accuracy: 0.8673\n",
      "Epoch 18/30\n",
      "1250/1250 [==============================] - 133s 107ms/step - loss: 0.0721 - accuracy: 0.9747 - val_loss: 0.5583 - val_accuracy: 0.8695\n",
      "Epoch 19/30\n",
      "1023/1250 [=======================>......] - ETA: 21s - loss: 0.0370 - accuracy: 0.9872"
     ]
    }
   ],
   "source": [
    "model.compile(loss = tf.keras.losses.BinaryCrossentropy() , optimizer='Adam' , metrics = 'accuracy')\n",
    "history = model.fit(train_pad_sequence,training_labels,epochs = 30 ,validation_data=(test_pad_sequence,testing_labels))"
   ]
  },
  {
   "cell_type": "markdown",
   "execution_count": null,
   "metadata": {},
   "source": [
    "# Plotting Accuracy and Losses"
   ]
  },
  {
   "cell_type": "code",
   "execution_count": 10,
   "metadata": {},
   "outputs": [
    {
     "data": {
      "image/png": "[encoded data removed]",
      "text/plain": [
       "<Figure size 432x288 with 1 Axes>"
      ]
     },
     "metadata": {
      "needs_background": "light"
     },
     "output_type": "display_data"
    },
    {
     "data": {
      "image/png": "[encoded data removed]",
      "text/plain": [
       "<Figure size 432x288 with 1 Axes>"
      ]
     },
     "metadata": {
      "needs_background": "light"
     },
     "output_type": "display_data"
    }
   ],
   "source": [
    "acc = history.history['accuracy']\n",
    "val_acc = history.history['val_accuracy']\n",
    "loss = history.history['loss']\n",
    "val_loss = history.history['val_loss']\n",
    "epochs = range(len(acc))\n",
    "\n",
    "plt.plot(epochs, acc, 'r', label='Training accuracy')\n",
    "plt.plot(epochs, val_acc, 'b', label='Validation accuracy')\n",
    "plt.title('Training and validation accuracy')\n",
    "plt.legend(loc=0)\n",
    "plt.figure()\n",
    "\n",
    "plt.plot(epochs, loss, 'r', label='Training loss')\n",
    "plt.plot(epochs, val_loss, 'b', label='Validation loss')\n",
    "plt.title('Training and validation loss')\n",
    "plt.legend(loc=0)\n",
    "\n",
    "plt.show()"
   ]
  },
  {
   "cell_type": "code",
   "execution_count": 11,
   "metadata": {},
   "outputs": [
    {
     "name": "stdout",
     "output_type": "stream",
     "text": [
      "Training Accuracy: 0.9886000156402588\n",
      "Validation Accuracy: 0.8820000290870667\n"
     ]
    }
   ],
   "source": [
    "print('Training Accuracy: {}'.format(max(acc)))\n",
    "print('Validation Accuracy: {}'.format(max(val_acc)))"
   ]
  },
  {
   "cell_type": "markdown",
   "execution_count": null,
   "metadata": {},
   "source": [
    "# Conclusion\n",
    "\n",
    "1 - We have great accuracy and we can increase it training for much longer and tune other hyperparameters\n",
    "2 - DNN LSTM have a deep impact on NLP problems and we can see that this model performs quite well."
   ]
  }
 ],
 "metadata": {
  "kernelspec": {
   "display_name": "Python 3",
   "language": "python",
   "name": "python3"
  },
  "language_info": {
   "codemirror_mode": {
    "name": "ipython",
    "version": 3
   },
   "file_extension": ".py",
   "mimetype": "text/x-python",
   "name": "python",
   "nbconvert_exporter": "python",
   "pygments_lexer": "ipython3",
   "version": "3.7.6"
  }
 },
 "nbformat": 4,
 "nbformat_minor": 4
}
