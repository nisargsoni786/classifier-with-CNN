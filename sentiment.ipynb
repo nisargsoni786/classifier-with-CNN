{
  "nbformat": 4,
  "nbformat_minor": 0,
  "metadata": {
    "colab": {
      "name": "sentiment.ipynb",
      "provenance": [],
      "collapsed_sections": []
    },
    "kernelspec": {
      "name": "python3",
      "display_name": "Python 3"
    },
    "language_info": {
      "name": "python"
    },
    "accelerator": "GPU"
  },
  "cells": [
    {
      "cell_type": "markdown",
      "metadata": {
        "id": "VQq0fdExvfIg"
      },
      "source": [
        "\n",
        "\n",
        "*   https://www.kaggle.com/paoloripamonti/twitter-sentiment-analysis/notebook\n",
        "\n"
      ]
    },
    {
      "cell_type": "code",
      "metadata": {
        "colab": {
          "base_uri": "https://localhost:8080/"
        },
        "id": "J-p7kDG-vitu",
        "outputId": "9ec0a711-afa7-4e79-8029-53481abb5816"
      },
      "source": [
        "!pip install gensim --upgrade\n",
        "!pip install keras --upgrade\n",
        "!pip install pandas --upgrade"
      ],
      "execution_count": 26,
      "outputs": [
        {
          "output_type": "stream",
          "text": [
            "Requirement already up-to-date: gensim in /usr/local/lib/python3.7/dist-packages (4.0.1)\n",
            "Requirement already satisfied, skipping upgrade: smart-open>=1.8.1 in /usr/local/lib/python3.7/dist-packages (from gensim) (5.1.0)\n",
            "Requirement already satisfied, skipping upgrade: scipy>=0.18.1 in /usr/local/lib/python3.7/dist-packages (from gensim) (1.4.1)\n",
            "Requirement already satisfied, skipping upgrade: numpy>=1.11.3 in /usr/local/lib/python3.7/dist-packages (from gensim) (1.19.5)\n",
            "Requirement already up-to-date: keras in /usr/local/lib/python3.7/dist-packages (2.4.3)\n",
            "Requirement already satisfied, skipping upgrade: numpy>=1.9.1 in /usr/local/lib/python3.7/dist-packages (from keras) (1.19.5)\n",
            "Requirement already satisfied, skipping upgrade: scipy>=0.14 in /usr/local/lib/python3.7/dist-packages (from keras) (1.4.1)\n",
            "Requirement already satisfied, skipping upgrade: h5py in /usr/local/lib/python3.7/dist-packages (from keras) (3.1.0)\n",
            "Requirement already satisfied, skipping upgrade: pyyaml in /usr/local/lib/python3.7/dist-packages (from keras) (3.13)\n",
            "Requirement already satisfied, skipping upgrade: cached-property; python_version < \"3.8\" in /usr/local/lib/python3.7/dist-packages (from h5py->keras) (1.5.2)\n",
            "Requirement already up-to-date: pandas in /usr/local/lib/python3.7/dist-packages (1.3.0)\n",
            "Requirement already satisfied, skipping upgrade: pytz>=2017.3 in /usr/local/lib/python3.7/dist-packages (from pandas) (2018.9)\n",
            "Requirement already satisfied, skipping upgrade: python-dateutil>=2.7.3 in /usr/local/lib/python3.7/dist-packages (from pandas) (2.8.1)\n",
            "Requirement already satisfied, skipping upgrade: numpy>=1.17.3 in /usr/local/lib/python3.7/dist-packages (from pandas) (1.19.5)\n",
            "Requirement already satisfied, skipping upgrade: six>=1.5 in /usr/local/lib/python3.7/dist-packages (from python-dateutil>=2.7.3->pandas) (1.15.0)\n"
          ],
          "name": "stdout"
        }
      ]
    },
    {
      "cell_type": "code",
      "metadata": {
        "id": "9TfH3vDDvmTB"
      },
      "source": [
        "# DataFrame\n",
        "import pandas as pd\n",
        "\n",
        "# Matplot\n",
        "import matplotlib.pyplot as plt\n",
        "%matplotlib inline\n",
        "\n",
        "# Scikit-learn\n",
        "from sklearn.model_selection import train_test_split\n",
        "from sklearn.preprocessing import LabelEncoder\n",
        "from sklearn.metrics import confusion_matrix, classification_report, accuracy_score\n",
        "from sklearn.manifold import TSNE\n",
        "from sklearn.feature_extraction.text import TfidfVectorizer\n",
        "\n",
        "# Keras\n",
        "from keras.preprocessing.text import Tokenizer\n",
        "from keras.preprocessing.sequence import pad_sequences\n",
        "from keras.models import Sequential\n",
        "from keras.layers import Activation, Dense, Dropout, Embedding, Flatten, Conv1D, MaxPooling1D, LSTM\n",
        "from keras import utils\n",
        "from keras.callbacks import ReduceLROnPlateau, EarlyStopping\n",
        "\n",
        "# nltk\n",
        "import nltk\n",
        "from nltk.corpus import stopwords\n",
        "from  nltk.stem import SnowballStemmer\n",
        "\n",
        "# Word2vec\n",
        "import gensim\n",
        "\n",
        "# Utility\n",
        "import re\n",
        "import numpy as np\n",
        "import os\n",
        "from collections import Counter\n",
        "import logging\n",
        "import time\n",
        "import pickle\n",
        "import itertools\n",
        "\n",
        "# Set log\n",
        "logging.basicConfig(format='%(asctime)s : %(levelname)s : %(message)s', level=logging.INFO)"
      ],
      "execution_count": 9,
      "outputs": []
    },
    {
      "cell_type": "code",
      "metadata": {
        "colab": {
          "base_uri": "https://localhost:8080/"
        },
        "id": "ssSLkVlOvwpD",
        "outputId": "0ad90785-ca44-40be-a111-f6b116605467"
      },
      "source": [
        "nltk.download('stopwords')"
      ],
      "execution_count": 10,
      "outputs": [
        {
          "output_type": "stream",
          "text": [
            "[nltk_data] Downloading package stopwords to /root/nltk_data...\n",
            "[nltk_data]   Package stopwords is already up-to-date!\n"
          ],
          "name": "stdout"
        },
        {
          "output_type": "execute_result",
          "data": {
            "text/plain": [
              "True"
            ]
          },
          "metadata": {
            "tags": []
          },
          "execution_count": 10
        }
      ]
    },
    {
      "cell_type": "code",
      "metadata": {
        "id": "MC0jGuDNvz5i"
      },
      "source": [
        "DATASET_COLUMNS = [\"target\", \"ids\", \"date\", \"flag\", \"user\", \"text\"]\n",
        "DATASET_ENCODING = \"ISO-8859-1\"\n",
        "TRAIN_SIZE = 0.8\n",
        "\n",
        "# TEXT CLENAING\n",
        "TEXT_CLEANING_RE = \"@\\S+|https?:\\S+|http?:\\S|[^A-Za-z0-9]+\"\n",
        "\n",
        "# WORD2VEC \n",
        "W2V_SIZE = 300\n",
        "W2V_WINDOW = 7\n",
        "W2V_EPOCH = 32\n",
        "W2V_MIN_COUNT = 10\n",
        "\n",
        "# KERAS\n",
        "SEQUENCE_LENGTH = 300\n",
        "EPOCHS = 8\n",
        "BATCH_SIZE = 1024\n",
        "\n",
        "# SENTIMENT\n",
        "POSITIVE = \"POSITIVE\"\n",
        "NEGATIVE = \"NEGATIVE\"\n",
        "NEUTRAL = \"NEUTRAL\"\n",
        "SENTIMENT_THRESHOLDS = (0.4, 0.7)\n",
        "\n",
        "# EXPORT\n",
        "KERAS_MODEL = \"model.h5\"\n",
        "WORD2VEC_MODEL = \"model.w2v\"\n",
        "TOKENIZER_MODEL = \"tokenizer.pkl\"\n",
        "ENCODER_MODEL = \"encoder.pkl\""
      ],
      "execution_count": 11,
      "outputs": []
    },
    {
      "cell_type": "code",
      "metadata": {
        "id": "5kb94k9syCt6"
      },
      "source": [
        "dataset_path='/content/drive/MyDrive/DataSet/twitter_sentiment_analysis.csv'"
      ],
      "execution_count": 12,
      "outputs": []
    },
    {
      "cell_type": "code",
      "metadata": {
        "id": "FwgKLvKhv4CL"
      },
      "source": [
        "df = pd.read_csv(dataset_path, encoding =DATASET_ENCODING , names=DATASET_COLUMNS)"
      ],
      "execution_count": 13,
      "outputs": []
    },
    {
      "cell_type": "code",
      "metadata": {
        "colab": {
          "base_uri": "https://localhost:8080/"
        },
        "id": "HelwOqVWv7Kg",
        "outputId": "931bdd9e-182c-4d9b-fce4-abc341abe71f"
      },
      "source": [
        "print(\"Dataset size:\", len(df))\n"
      ],
      "execution_count": 14,
      "outputs": [
        {
          "output_type": "stream",
          "text": [
            "Dataset size: 1600000\n"
          ],
          "name": "stdout"
        }
      ]
    },
    {
      "cell_type": "code",
      "metadata": {
        "colab": {
          "base_uri": "https://localhost:8080/"
        },
        "id": "8OgE88l6yKby",
        "outputId": "b94666a2-57e3-4edf-dadc-685ea0688ed7"
      },
      "source": [
        "print(df[0:4])"
      ],
      "execution_count": 16,
      "outputs": [
        {
          "output_type": "stream",
          "text": [
            "   target  ...                                               text\n",
            "0       0  ...  @switchfoot http://twitpic.com/2y1zl - Awww, t...\n",
            "1       0  ...  is upset that he can't update his Facebook by ...\n",
            "2       0  ...  @Kenichan I dived many times for the ball. Man...\n",
            "3       0  ...    my whole body feels itchy and like its on fire \n",
            "\n",
            "[4 rows x 6 columns]\n"
          ],
          "name": "stdout"
        }
      ]
    },
    {
      "cell_type": "code",
      "metadata": {
        "id": "CjoXr7GnyNdD"
      },
      "source": [
        "decode_map = {0: \"NEGATIVE\", 2: \"NEUTRAL\", 4: \"POSITIVE\"}\n",
        "def decode_sentiment(label):\n",
        "    return decode_map[int(label)]"
      ],
      "execution_count": 17,
      "outputs": []
    },
    {
      "cell_type": "code",
      "metadata": {
        "colab": {
          "base_uri": "https://localhost:8080/"
        },
        "id": "k_FK-MMdzlpu",
        "outputId": "cce88bc2-22d4-4370-8704-d88dac7f99cf"
      },
      "source": [
        "%%time\n",
        "df.target = df.target.apply(lambda x: decode_sentiment(x))"
      ],
      "execution_count": 18,
      "outputs": [
        {
          "output_type": "stream",
          "text": [
            "CPU times: user 478 ms, sys: 6.74 ms, total: 485 ms\n",
            "Wall time: 485 ms\n"
          ],
          "name": "stdout"
        }
      ]
    },
    {
      "cell_type": "code",
      "metadata": {
        "colab": {
          "base_uri": "https://localhost:8080/",
          "height": 516
        },
        "id": "ViMZVm-ozoI-",
        "outputId": "cf8a8f14-0dbc-41a6-9b04-5f6e01c33131"
      },
      "source": [
        "target_cnt = Counter(df.target)\n",
        "\n",
        "plt.figure(figsize=(16,8))\n",
        "plt.bar(target_cnt.keys(), target_cnt.values())\n",
        "plt.title(\"Dataset labels distribuition\")"
      ],
      "execution_count": 19,
      "outputs": [
        {
          "output_type": "execute_result",
          "data": {
            "text/plain": [
              "Text(0.5, 1.0, 'Dataset labels distribuition')"
            ]
          },
          "metadata": {
            "tags": []
          },
          "execution_count": 19
        },
        {
          "output_type": "display_data",
          "data": {
            "image/png": "[encoded data removed]",
            "text/plain": [
              "<Figure size 1152x576 with 1 Axes>"
            ]
          },
          "metadata": {
            "tags": [],
            "needs_background": "light"
          }
        }
      ]
    },
    {
      "cell_type": "code",
      "metadata": {
        "id": "wgDwZgRCzqgn"
      },
      "source": [
        "stop_words = stopwords.words(\"english\")\n",
        "stemmer = SnowballStemmer(\"english\")\n",
        "\n",
        "def preprocess(text, stem=False):\n",
        "    # Remove link,user and special characters\n",
        "    text = re.sub(TEXT_CLEANING_RE, ' ', str(text).lower()).strip()\n",
        "    tokens = []\n",
        "    for token in text.split():\n",
        "        if token not in stop_words:\n",
        "            if stem:\n",
        "                tokens.append(stemmer.stem(token))\n",
        "            else:\n",
        "                tokens.append(token)\n",
        "    return \" \".join(tokens)\n",
        "\n",
        "df.text = df.text.apply(lambda x: preprocess(x))"
      ],
      "execution_count": 21,
      "outputs": []
    },
    {
      "cell_type": "code",
      "metadata": {
        "colab": {
          "base_uri": "https://localhost:8080/"
        },
        "id": "hucx2NFQzwZD",
        "outputId": "4c384c62-0a14-4f53-8988-ce0720b2c372"
      },
      "source": [
        "df_train, df_test = train_test_split(df, test_size=1-TRAIN_SIZE, random_state=42)\n",
        "print(\"TRAIN size:\", len(df_train))\n",
        "print(\"TEST size:\", len(df_test))"
      ],
      "execution_count": 22,
      "outputs": [
        {
          "output_type": "stream",
          "text": [
            "TRAIN size: 1280000\n",
            "TEST size: 320000\n"
          ],
          "name": "stdout"
        }
      ]
    },
    {
      "cell_type": "code",
      "metadata": {
        "colab": {
          "base_uri": "https://localhost:8080/"
        },
        "id": "OpO8MqWs0BFv",
        "outputId": "f6938f3e-65a8-4904-d104-6a44efe4b53d"
      },
      "source": [
        "%%time\n",
        "documents = [_text.split() for _text in df_train.text] "
      ],
      "execution_count": 23,
      "outputs": [
        {
          "output_type": "stream",
          "text": [
            "CPU times: user 2.67 s, sys: 330 ms, total: 3 s\n",
            "Wall time: 3 s\n"
          ],
          "name": "stdout"
        }
      ]
    },
    {
      "cell_type": "code",
      "metadata": {
        "colab": {
          "base_uri": "https://localhost:8080/"
        },
        "id": "18Co71_L0IhR",
        "outputId": "f7e52b21-1cba-4709-f375-0463f5326de1"
      },
      "source": [
        "w2v_model = gensim.models.word2vec.Word2Vec(vector_size=W2V_SIZE, \n",
        "                                            window=W2V_WINDOW, \n",
        "                                            min_count=W2V_MIN_COUNT, \n",
        "                                            workers=8)"
      ],
      "execution_count": 31,
      "outputs": [
        {
          "output_type": "stream",
          "text": [
            "2021-07-16 05:41:38,356 : INFO : Word2Vec lifecycle event {'params': 'Word2Vec(vocab=0, vector_size=300, alpha=0.025)', 'datetime': '2021-07-16T05:41:38.356332', 'gensim': '4.0.1', 'python': '3.7.10 (default, May  3 2021, 02:48:31) \\n[GCC 7.5.0]', 'platform': 'Linux-5.4.104+-x86_64-with-Ubuntu-18.04-bionic', 'event': 'created'}\n"
          ],
          "name": "stderr"
        }
      ]
    },
    {
      "cell_type": "code",
      "metadata": {
        "colab": {
          "base_uri": "https://localhost:8080/"
        },
        "id": "XGIgmNBo0KZV",
        "outputId": "80a561d5-1f75-4f3e-ce9d-73bbf2755f3d"
      },
      "source": [
        "w2v_model.build_vocab(documents)"
      ],
      "execution_count": 32,
      "outputs": [
        {
          "output_type": "stream",
          "text": [
            "2021-07-16 05:41:58,747 : INFO : collecting all words and their counts\n",
            "2021-07-16 05:41:58,750 : INFO : PROGRESS: at sentence #0, processed 0 words, keeping 0 word types\n",
            "2021-07-16 05:41:58,776 : INFO : PROGRESS: at sentence #10000, processed 72565 words, keeping 14005 word types\n",
            "2021-07-16 05:41:58,803 : INFO : PROGRESS: at sentence #20000, processed 144393 words, keeping 21587 word types\n",
            "2021-07-16 05:41:58,826 : INFO : PROGRESS: at sentence #30000, processed 215826 words, keeping 27541 word types\n",
            "2021-07-16 05:41:58,849 : INFO : PROGRESS: at sentence #40000, processed 288271 words, keeping 32764 word types\n",
            "2021-07-16 05:41:58,872 : INFO : PROGRESS: at sentence #50000, processed 359772 words, keeping 37587 word types\n",
            "2021-07-16 05:41:58,892 : INFO : PROGRESS: at sentence #60000, processed 431431 words, keeping 42198 word types\n",
            "2021-07-16 05:41:58,921 : INFO : PROGRESS: at sentence #70000, processed 503103 words, keeping 46458 word types\n",
            "2021-07-16 05:41:58,946 : INFO : PROGRESS: at sentence #80000, processed 575709 words, keeping 50476 word types\n",
            "2021-07-16 05:41:58,973 : INFO : PROGRESS: at sentence #90000, processed 647100 words, keeping 54140 word types\n",
            "2021-07-16 05:41:58,995 : INFO : PROGRESS: at sentence #100000, processed 718681 words, keeping 57777 word types\n",
            "2021-07-16 05:41:59,018 : INFO : PROGRESS: at sentence #110000, processed 790696 words, keeping 61207 word types\n",
            "2021-07-16 05:41:59,044 : INFO : PROGRESS: at sentence #120000, processed 863134 words, keeping 64583 word types\n",
            "2021-07-16 05:41:59,065 : INFO : PROGRESS: at sentence #130000, processed 935111 words, keeping 67865 word types\n",
            "2021-07-16 05:41:59,089 : INFO : PROGRESS: at sentence #140000, processed 1006668 words, keeping 70966 word types\n",
            "2021-07-16 05:41:59,111 : INFO : PROGRESS: at sentence #150000, processed 1078512 words, keeping 74119 word types\n",
            "2021-07-16 05:41:59,136 : INFO : PROGRESS: at sentence #160000, processed 1149914 words, keeping 77187 word types\n",
            "2021-07-16 05:41:59,157 : INFO : PROGRESS: at sentence #170000, processed 1222145 words, keeping 80267 word types\n",
            "2021-07-16 05:41:59,186 : INFO : PROGRESS: at sentence #180000, processed 1294708 words, keeping 83393 word types\n",
            "2021-07-16 05:41:59,210 : INFO : PROGRESS: at sentence #190000, processed 1367608 words, keeping 86329 word types\n",
            "2021-07-16 05:41:59,235 : INFO : PROGRESS: at sentence #200000, processed 1439469 words, keeping 89103 word types\n",
            "2021-07-16 05:41:59,259 : INFO : PROGRESS: at sentence #210000, processed 1512099 words, keeping 91840 word types\n",
            "2021-07-16 05:41:59,282 : INFO : PROGRESS: at sentence #220000, processed 1584149 words, keeping 94636 word types\n",
            "2021-07-16 05:41:59,304 : INFO : PROGRESS: at sentence #230000, processed 1656354 words, keeping 97353 word types\n",
            "2021-07-16 05:41:59,328 : INFO : PROGRESS: at sentence #240000, processed 1728573 words, keeping 99975 word types\n",
            "2021-07-16 05:41:59,352 : INFO : PROGRESS: at sentence #250000, processed 1801102 words, keeping 102594 word types\n",
            "2021-07-16 05:41:59,375 : INFO : PROGRESS: at sentence #260000, processed 1873103 words, keeping 105162 word types\n",
            "2021-07-16 05:41:59,402 : INFO : PROGRESS: at sentence #270000, processed 1945245 words, keeping 107626 word types\n",
            "2021-07-16 05:41:59,424 : INFO : PROGRESS: at sentence #280000, processed 2017163 words, keeping 110141 word types\n",
            "2021-07-16 05:41:59,450 : INFO : PROGRESS: at sentence #290000, processed 2089574 words, keeping 112539 word types\n",
            "2021-07-16 05:41:59,475 : INFO : PROGRESS: at sentence #300000, processed 2160996 words, keeping 114893 word types\n",
            "2021-07-16 05:41:59,500 : INFO : PROGRESS: at sentence #310000, processed 2232913 words, keeping 117298 word types\n",
            "2021-07-16 05:41:59,525 : INFO : PROGRESS: at sentence #320000, processed 2305039 words, keeping 119693 word types\n",
            "2021-07-16 05:41:59,549 : INFO : PROGRESS: at sentence #330000, processed 2377119 words, keeping 122131 word types\n",
            "2021-07-16 05:41:59,575 : INFO : PROGRESS: at sentence #340000, processed 2449370 words, keeping 124416 word types\n",
            "2021-07-16 05:41:59,601 : INFO : PROGRESS: at sentence #350000, processed 2521564 words, keeping 126669 word types\n",
            "2021-07-16 05:41:59,631 : INFO : PROGRESS: at sentence #360000, processed 2593681 words, keeping 128912 word types\n",
            "2021-07-16 05:41:59,659 : INFO : PROGRESS: at sentence #370000, processed 2665692 words, keeping 131135 word types\n",
            "2021-07-16 05:41:59,685 : INFO : PROGRESS: at sentence #380000, processed 2737859 words, keeping 133403 word types\n",
            "2021-07-16 05:41:59,709 : INFO : PROGRESS: at sentence #390000, processed 2809848 words, keeping 135551 word types\n",
            "2021-07-16 05:41:59,735 : INFO : PROGRESS: at sentence #400000, processed 2882438 words, keeping 137742 word types\n",
            "2021-07-16 05:41:59,759 : INFO : PROGRESS: at sentence #410000, processed 2954075 words, keeping 139909 word types\n",
            "2021-07-16 05:41:59,784 : INFO : PROGRESS: at sentence #420000, processed 3026247 words, keeping 142144 word types\n",
            "2021-07-16 05:41:59,815 : INFO : PROGRESS: at sentence #430000, processed 3098659 words, keeping 144364 word types\n",
            "2021-07-16 05:41:59,843 : INFO : PROGRESS: at sentence #440000, processed 3170663 words, keeping 146439 word types\n",
            "2021-07-16 05:41:59,866 : INFO : PROGRESS: at sentence #450000, processed 3243344 words, keeping 148526 word types\n",
            "2021-07-16 05:41:59,891 : INFO : PROGRESS: at sentence #460000, processed 3315466 words, keeping 150610 word types\n",
            "2021-07-16 05:41:59,917 : INFO : PROGRESS: at sentence #470000, processed 3388295 words, keeping 152737 word types\n",
            "2021-07-16 05:41:59,942 : INFO : PROGRESS: at sentence #480000, processed 3460120 words, keeping 154757 word types\n",
            "2021-07-16 05:41:59,968 : INFO : PROGRESS: at sentence #490000, processed 3531883 words, keeping 156825 word types\n",
            "2021-07-16 05:41:59,992 : INFO : PROGRESS: at sentence #500000, processed 3604217 words, keeping 158859 word types\n",
            "2021-07-16 05:42:00,021 : INFO : PROGRESS: at sentence #510000, processed 3676427 words, keeping 160852 word types\n",
            "2021-07-16 05:42:00,047 : INFO : PROGRESS: at sentence #520000, processed 3749045 words, keeping 162863 word types\n",
            "2021-07-16 05:42:00,070 : INFO : PROGRESS: at sentence #530000, processed 3821622 words, keeping 164929 word types\n",
            "2021-07-16 05:42:00,098 : INFO : PROGRESS: at sentence #540000, processed 3893627 words, keeping 166840 word types\n",
            "2021-07-16 05:42:00,124 : INFO : PROGRESS: at sentence #550000, processed 3965477 words, keeping 168799 word types\n",
            "2021-07-16 05:42:00,148 : INFO : PROGRESS: at sentence #560000, processed 4038050 words, keeping 170802 word types\n",
            "2021-07-16 05:42:00,172 : INFO : PROGRESS: at sentence #570000, processed 4110296 words, keeping 172760 word types\n",
            "2021-07-16 05:42:00,202 : INFO : PROGRESS: at sentence #580000, processed 4182385 words, keeping 174635 word types\n",
            "2021-07-16 05:42:00,234 : INFO : PROGRESS: at sentence #590000, processed 4254632 words, keeping 176470 word types\n",
            "2021-07-16 05:42:00,258 : INFO : PROGRESS: at sentence #600000, processed 4326859 words, keeping 178350 word types\n",
            "2021-07-16 05:42:00,284 : INFO : PROGRESS: at sentence #610000, processed 4399183 words, keeping 180290 word types\n",
            "2021-07-16 05:42:00,311 : INFO : PROGRESS: at sentence #620000, processed 4471343 words, keeping 182129 word types\n",
            "2021-07-16 05:42:00,334 : INFO : PROGRESS: at sentence #630000, processed 4543286 words, keeping 184005 word types\n",
            "2021-07-16 05:42:00,362 : INFO : PROGRESS: at sentence #640000, processed 4615780 words, keeping 185835 word types\n",
            "2021-07-16 05:42:00,386 : INFO : PROGRESS: at sentence #650000, processed 4688481 words, keeping 187705 word types\n",
            "2021-07-16 05:42:00,412 : INFO : PROGRESS: at sentence #660000, processed 4760481 words, keeping 189439 word types\n",
            "2021-07-16 05:42:00,439 : INFO : PROGRESS: at sentence #670000, processed 4833024 words, keeping 191232 word types\n",
            "2021-07-16 05:42:00,462 : INFO : PROGRESS: at sentence #680000, processed 4904516 words, keeping 193177 word types\n",
            "2021-07-16 05:42:00,489 : INFO : PROGRESS: at sentence #690000, processed 4976968 words, keeping 194960 word types\n",
            "2021-07-16 05:42:00,515 : INFO : PROGRESS: at sentence #700000, processed 5049412 words, keeping 196725 word types\n",
            "2021-07-16 05:42:00,543 : INFO : PROGRESS: at sentence #710000, processed 5121976 words, keeping 198516 word types\n",
            "2021-07-16 05:42:00,574 : INFO : PROGRESS: at sentence #720000, processed 5193881 words, keeping 200325 word types\n",
            "2021-07-16 05:42:00,599 : INFO : PROGRESS: at sentence #730000, processed 5265467 words, keeping 202133 word types\n",
            "2021-07-16 05:42:00,624 : INFO : PROGRESS: at sentence #740000, processed 5337518 words, keeping 203818 word types\n",
            "2021-07-16 05:42:00,648 : INFO : PROGRESS: at sentence #750000, processed 5409321 words, keeping 205535 word types\n",
            "2021-07-16 05:42:00,675 : INFO : PROGRESS: at sentence #760000, processed 5481512 words, keeping 207282 word types\n",
            "2021-07-16 05:42:00,700 : INFO : PROGRESS: at sentence #770000, processed 5554093 words, keeping 209076 word types\n",
            "2021-07-16 05:42:00,727 : INFO : PROGRESS: at sentence #780000, processed 5625382 words, keeping 210805 word types\n",
            "2021-07-16 05:42:00,755 : INFO : PROGRESS: at sentence #790000, processed 5698066 words, keeping 212618 word types\n",
            "2021-07-16 05:42:00,781 : INFO : PROGRESS: at sentence #800000, processed 5770880 words, keeping 214374 word types\n",
            "2021-07-16 05:42:00,806 : INFO : PROGRESS: at sentence #810000, processed 5843418 words, keeping 216009 word types\n",
            "2021-07-16 05:42:00,837 : INFO : PROGRESS: at sentence #820000, processed 5915628 words, keeping 217804 word types\n",
            "2021-07-16 05:42:00,862 : INFO : PROGRESS: at sentence #830000, processed 5987499 words, keeping 219585 word types\n",
            "2021-07-16 05:42:00,888 : INFO : PROGRESS: at sentence #840000, processed 6058973 words, keeping 221344 word types\n",
            "2021-07-16 05:42:00,913 : INFO : PROGRESS: at sentence #850000, processed 6131125 words, keeping 223002 word types\n",
            "2021-07-16 05:42:00,936 : INFO : PROGRESS: at sentence #860000, processed 6202951 words, keeping 224643 word types\n",
            "2021-07-16 05:42:00,964 : INFO : PROGRESS: at sentence #870000, processed 6275461 words, keeping 226362 word types\n",
            "2021-07-16 05:42:00,988 : INFO : PROGRESS: at sentence #880000, processed 6347661 words, keeping 227986 word types\n",
            "2021-07-16 05:42:01,012 : INFO : PROGRESS: at sentence #890000, processed 6419806 words, keeping 229634 word types\n",
            "2021-07-16 05:42:01,038 : INFO : PROGRESS: at sentence #900000, processed 6491644 words, keeping 231389 word types\n",
            "2021-07-16 05:42:01,065 : INFO : PROGRESS: at sentence #910000, processed 6564022 words, keeping 233050 word types\n",
            "2021-07-16 05:42:01,088 : INFO : PROGRESS: at sentence #920000, processed 6636228 words, keeping 234686 word types\n",
            "2021-07-16 05:42:01,117 : INFO : PROGRESS: at sentence #930000, processed 6708573 words, keeping 236393 word types\n",
            "2021-07-16 05:42:01,143 : INFO : PROGRESS: at sentence #940000, processed 6779956 words, keeping 238052 word types\n",
            "2021-07-16 05:42:01,166 : INFO : PROGRESS: at sentence #950000, processed 6852599 words, keeping 239716 word types\n",
            "2021-07-16 05:42:01,196 : INFO : PROGRESS: at sentence #960000, processed 6924717 words, keeping 241354 word types\n",
            "2021-07-16 05:42:01,221 : INFO : PROGRESS: at sentence #970000, processed 6996992 words, keeping 242980 word types\n",
            "2021-07-16 05:42:01,245 : INFO : PROGRESS: at sentence #980000, processed 7068402 words, keeping 244646 word types\n",
            "2021-07-16 05:42:01,271 : INFO : PROGRESS: at sentence #990000, processed 7140346 words, keeping 246186 word types\n",
            "2021-07-16 05:42:01,298 : INFO : PROGRESS: at sentence #1000000, processed 7211757 words, keeping 247726 word types\n",
            "2021-07-16 05:42:01,322 : INFO : PROGRESS: at sentence #1010000, processed 7283267 words, keeping 249288 word types\n",
            "2021-07-16 05:42:01,350 : INFO : PROGRESS: at sentence #1020000, processed 7355299 words, keeping 250860 word types\n",
            "2021-07-16 05:42:01,377 : INFO : PROGRESS: at sentence #1030000, processed 7426918 words, keeping 252366 word types\n",
            "2021-07-16 05:42:01,401 : INFO : PROGRESS: at sentence #1040000, processed 7498815 words, keeping 253930 word types\n",
            "2021-07-16 05:42:01,430 : INFO : PROGRESS: at sentence #1050000, processed 7570499 words, keeping 255471 word types\n",
            "2021-07-16 05:42:01,464 : INFO : PROGRESS: at sentence #1060000, processed 7643251 words, keeping 257035 word types\n",
            "2021-07-16 05:42:01,488 : INFO : PROGRESS: at sentence #1070000, processed 7714721 words, keeping 258509 word types\n",
            "2021-07-16 05:42:01,518 : INFO : PROGRESS: at sentence #1080000, processed 7787371 words, keeping 260071 word types\n",
            "2021-07-16 05:42:01,544 : INFO : PROGRESS: at sentence #1090000, processed 7859336 words, keeping 261683 word types\n",
            "2021-07-16 05:42:01,570 : INFO : PROGRESS: at sentence #1100000, processed 7932029 words, keeping 263278 word types\n",
            "2021-07-16 05:42:01,597 : INFO : PROGRESS: at sentence #1110000, processed 8004146 words, keeping 264800 word types\n",
            "2021-07-16 05:42:01,620 : INFO : PROGRESS: at sentence #1120000, processed 8075880 words, keeping 266309 word types\n",
            "2021-07-16 05:42:01,650 : INFO : PROGRESS: at sentence #1130000, processed 8148163 words, keeping 267826 word types\n",
            "2021-07-16 05:42:01,674 : INFO : PROGRESS: at sentence #1140000, processed 8220487 words, keeping 269391 word types\n",
            "2021-07-16 05:42:01,702 : INFO : PROGRESS: at sentence #1150000, processed 8292498 words, keeping 270894 word types\n",
            "2021-07-16 05:42:01,727 : INFO : PROGRESS: at sentence #1160000, processed 8363838 words, keeping 272400 word types\n",
            "2021-07-16 05:42:01,754 : INFO : PROGRESS: at sentence #1170000, processed 8435510 words, keeping 273970 word types\n",
            "2021-07-16 05:42:01,779 : INFO : PROGRESS: at sentence #1180000, processed 8507795 words, keeping 275521 word types\n",
            "2021-07-16 05:42:01,808 : INFO : PROGRESS: at sentence #1190000, processed 8579080 words, keeping 277007 word types\n",
            "2021-07-16 05:42:01,842 : INFO : PROGRESS: at sentence #1200000, processed 8650606 words, keeping 278457 word types\n",
            "2021-07-16 05:42:01,866 : INFO : PROGRESS: at sentence #1210000, processed 8721893 words, keeping 279959 word types\n",
            "2021-07-16 05:42:01,893 : INFO : PROGRESS: at sentence #1220000, processed 8793795 words, keeping 281427 word types\n",
            "2021-07-16 05:42:01,924 : INFO : PROGRESS: at sentence #1230000, processed 8865726 words, keeping 282981 word types\n",
            "2021-07-16 05:42:01,949 : INFO : PROGRESS: at sentence #1240000, processed 8938173 words, keeping 284542 word types\n",
            "2021-07-16 05:42:01,977 : INFO : PROGRESS: at sentence #1250000, processed 9010842 words, keeping 286064 word types\n",
            "2021-07-16 05:42:02,001 : INFO : PROGRESS: at sentence #1260000, processed 9083261 words, keeping 287521 word types\n",
            "2021-07-16 05:42:02,028 : INFO : PROGRESS: at sentence #1270000, processed 9155616 words, keeping 288987 word types\n",
            "2021-07-16 05:42:02,053 : INFO : collected 290418 word types from a corpus of 9227204 raw words and 1280000 sentences\n",
            "2021-07-16 05:42:02,053 : INFO : Creating a fresh vocabulary\n",
            "2021-07-16 05:42:02,279 : INFO : Word2Vec lifecycle event {'msg': 'effective_min_count=10 retains 30369 unique words (10.456996467161126%% of original 290418, drops 260049)', 'datetime': '2021-07-16T05:42:02.279273', 'gensim': '4.0.1', 'python': '3.7.10 (default, May  3 2021, 02:48:31) \\n[GCC 7.5.0]', 'platform': 'Linux-5.4.104+-x86_64-with-Ubuntu-18.04-bionic', 'event': 'prepare_vocab'}\n",
            "2021-07-16 05:42:02,281 : INFO : Word2Vec lifecycle event {'msg': 'effective_min_count=10 leaves 8780739 word corpus (95.16142701516083%% of original 9227204, drops 446465)', 'datetime': '2021-07-16T05:42:02.281001', 'gensim': '4.0.1', 'python': '3.7.10 (default, May  3 2021, 02:48:31) \\n[GCC 7.5.0]', 'platform': 'Linux-5.4.104+-x86_64-with-Ubuntu-18.04-bionic', 'event': 'prepare_vocab'}\n",
            "2021-07-16 05:42:02,455 : INFO : deleting the raw counts dictionary of 290418 items\n",
            "2021-07-16 05:42:02,463 : INFO : sample=0.001 downsamples 45 most-common words\n",
            "2021-07-16 05:42:02,466 : INFO : Word2Vec lifecycle event {'msg': 'downsampling leaves estimated 8222658.616429881 word corpus (93.6%% of prior 8780739)', 'datetime': '2021-07-16T05:42:02.466796', 'gensim': '4.0.1', 'python': '3.7.10 (default, May  3 2021, 02:48:31) \\n[GCC 7.5.0]', 'platform': 'Linux-5.4.104+-x86_64-with-Ubuntu-18.04-bionic', 'event': 'prepare_vocab'}\n",
            "2021-07-16 05:42:02,773 : INFO : estimated required memory for 30369 words and 300 dimensions: 88070100 bytes\n",
            "2021-07-16 05:42:02,776 : INFO : resetting layer weights\n",
            "2021-07-16 05:42:02,846 : INFO : Word2Vec lifecycle event {'update': False, 'trim_rule': 'None', 'datetime': '2021-07-16T05:42:02.846488', 'gensim': '4.0.1', 'python': '3.7.10 (default, May  3 2021, 02:48:31) \\n[GCC 7.5.0]', 'platform': 'Linux-5.4.104+-x86_64-with-Ubuntu-18.04-bionic', 'event': 'build_vocab'}\n"
          ],
          "name": "stderr"
        }
      ]
    },
    {
      "cell_type": "code",
      "metadata": {
        "colab": {
          "base_uri": "https://localhost:8080/"
        },
        "id": "jKGYefzO1fWZ",
        "outputId": "701ea1e5-d1db-4b8b-ffad-ba178910dea8"
      },
      "source": [
        "words = list(w2v_model.wv.index_to_key)\n",
        "vocab_size = len(words)\n",
        "print(\"Vocab size\", vocab_size)"
      ],
      "execution_count": 34,
      "outputs": [
        {
          "output_type": "stream",
          "text": [
            "Vocab size 30369\n"
          ],
          "name": "stdout"
        }
      ]
    },
    {
      "cell_type": "code",
      "metadata": {
        "colab": {
          "base_uri": "https://localhost:8080/"
        },
        "id": "9NXIqIUq1keF",
        "outputId": "a279c1ff-8a5f-4b55-9714-f7357e489d65"
      },
      "source": [
        "%%time\n",
        "w2v_model.train(documents, total_examples=len(documents), epochs=W2V_EPOCH)"
      ],
      "execution_count": 35,
      "outputs": [
        {
          "output_type": "stream",
          "text": [
            "2021-07-16 05:44:08,384 : INFO : Word2Vec lifecycle event {'msg': 'training model with 8 workers on 30369 vocabulary and 300 features, using sg=0 hs=0 sample=0.001 negative=5 window=7', 'datetime': '2021-07-16T05:44:08.384350', 'gensim': '4.0.1', 'python': '3.7.10 (default, May  3 2021, 02:48:31) \\n[GCC 7.5.0]', 'platform': 'Linux-5.4.104+-x86_64-with-Ubuntu-18.04-bionic', 'event': 'train'}\n",
            "2021-07-16 05:44:09,417 : INFO : EPOCH 1 - PROGRESS: at 5.21% examples, 421196 words/s, in_qsize 14, out_qsize 0\n",
            "2021-07-16 05:44:10,463 : INFO : EPOCH 1 - PROGRESS: at 10.42% examples, 415165 words/s, in_qsize 15, out_qsize 0\n",
            "2021-07-16 05:44:11,467 : INFO : EPOCH 1 - PROGRESS: at 15.73% examples, 421595 words/s, in_qsize 14, out_qsize 4\n",
            "2021-07-16 05:44:12,489 : INFO : EPOCH 1 - PROGRESS: at 21.79% examples, 438130 words/s, in_qsize 16, out_qsize 1\n",
            "2021-07-16 05:44:13,559 : INFO : EPOCH 1 - PROGRESS: at 27.32% examples, 435389 words/s, in_qsize 16, out_qsize 0\n",
            "2021-07-16 05:44:14,563 : INFO : EPOCH 1 - PROGRESS: at 32.62% examples, 435311 words/s, in_qsize 15, out_qsize 2\n",
            "2021-07-16 05:44:15,612 : INFO : EPOCH 1 - PROGRESS: at 38.02% examples, 433761 words/s, in_qsize 15, out_qsize 0\n",
            "2021-07-16 05:44:16,627 : INFO : EPOCH 1 - PROGRESS: at 43.43% examples, 434383 words/s, in_qsize 15, out_qsize 0\n",
            "2021-07-16 05:44:17,649 : INFO : EPOCH 1 - PROGRESS: at 48.51% examples, 431639 words/s, in_qsize 15, out_qsize 0\n",
            "2021-07-16 05:44:18,655 : INFO : EPOCH 1 - PROGRESS: at 54.03% examples, 433627 words/s, in_qsize 15, out_qsize 0\n",
            "2021-07-16 05:44:19,685 : INFO : EPOCH 1 - PROGRESS: at 59.34% examples, 432769 words/s, in_qsize 15, out_qsize 0\n",
            "2021-07-16 05:44:20,693 : INFO : EPOCH 1 - PROGRESS: at 64.73% examples, 433509 words/s, in_qsize 15, out_qsize 1\n",
            "2021-07-16 05:44:21,696 : INFO : EPOCH 1 - PROGRESS: at 70.26% examples, 434969 words/s, in_qsize 13, out_qsize 1\n",
            "2021-07-16 05:44:22,769 : INFO : EPOCH 1 - PROGRESS: at 75.57% examples, 432850 words/s, in_qsize 14, out_qsize 1\n",
            "2021-07-16 05:44:23,797 : INFO : EPOCH 1 - PROGRESS: at 81.23% examples, 434019 words/s, in_qsize 14, out_qsize 1\n",
            "2021-07-16 05:44:24,798 : INFO : EPOCH 1 - PROGRESS: at 86.53% examples, 434155 words/s, in_qsize 15, out_qsize 2\n",
            "2021-07-16 05:44:25,903 : INFO : EPOCH 1 - PROGRESS: at 92.07% examples, 432659 words/s, in_qsize 13, out_qsize 2\n",
            "2021-07-16 05:44:26,906 : INFO : EPOCH 1 - PROGRESS: at 97.72% examples, 434248 words/s, in_qsize 16, out_qsize 2\n",
            "2021-07-16 05:44:27,208 : INFO : worker thread finished; awaiting finish of 7 more threads\n",
            "2021-07-16 05:44:27,234 : INFO : worker thread finished; awaiting finish of 6 more threads\n",
            "2021-07-16 05:44:27,236 : INFO : worker thread finished; awaiting finish of 5 more threads\n",
            "2021-07-16 05:44:27,243 : INFO : worker thread finished; awaiting finish of 4 more threads\n",
            "2021-07-16 05:44:27,244 : INFO : worker thread finished; awaiting finish of 3 more threads\n",
            "2021-07-16 05:44:27,261 : INFO : worker thread finished; awaiting finish of 2 more threads\n",
            "2021-07-16 05:44:27,273 : INFO : worker thread finished; awaiting finish of 1 more threads\n",
            "2021-07-16 05:44:27,281 : INFO : worker thread finished; awaiting finish of 0 more threads\n",
            "2021-07-16 05:44:27,282 : INFO : EPOCH - 1 : training on 9227204 raw words (8223072 effective words) took 18.9s, 435568 effective words/s\n",
            "2021-07-16 05:44:28,319 : INFO : EPOCH 2 - PROGRESS: at 5.00% examples, 401161 words/s, in_qsize 15, out_qsize 1\n",
            "2021-07-16 05:44:29,409 : INFO : EPOCH 2 - PROGRESS: at 10.75% examples, 417724 words/s, in_qsize 15, out_qsize 0\n",
            "2021-07-16 05:44:30,415 : INFO : EPOCH 2 - PROGRESS: at 16.16% examples, 425649 words/s, in_qsize 14, out_qsize 1\n",
            "2021-07-16 05:44:31,424 : INFO : EPOCH 2 - PROGRESS: at 21.35% examples, 425205 words/s, in_qsize 15, out_qsize 0\n",
            "2021-07-16 05:44:32,489 : INFO : EPOCH 2 - PROGRESS: at 26.98% examples, 427205 words/s, in_qsize 15, out_qsize 1\n",
            "2021-07-16 05:44:33,505 : INFO : EPOCH 2 - PROGRESS: at 32.62% examples, 431945 words/s, in_qsize 15, out_qsize 0\n",
            "2021-07-16 05:44:34,545 : INFO : EPOCH 2 - PROGRESS: at 37.92% examples, 430837 words/s, in_qsize 15, out_qsize 1\n",
            "2021-07-16 05:44:35,556 : INFO : EPOCH 2 - PROGRESS: at 43.21% examples, 430352 words/s, in_qsize 13, out_qsize 2\n",
            "2021-07-16 05:44:36,560 : INFO : EPOCH 2 - PROGRESS: at 48.62% examples, 431814 words/s, in_qsize 16, out_qsize 1\n",
            "2021-07-16 05:44:37,593 : INFO : EPOCH 2 - PROGRESS: at 54.35% examples, 434345 words/s, in_qsize 15, out_qsize 0\n",
            "2021-07-16 05:44:38,625 : INFO : EPOCH 2 - PROGRESS: at 59.87% examples, 434931 words/s, in_qsize 15, out_qsize 0\n",
            "2021-07-16 05:44:39,629 : INFO : EPOCH 2 - PROGRESS: at 64.95% examples, 433437 words/s, in_qsize 15, out_qsize 0\n",
            "2021-07-16 05:44:40,646 : INFO : EPOCH 2 - PROGRESS: at 70.05% examples, 431802 words/s, in_qsize 16, out_qsize 0\n",
            "2021-07-16 05:44:41,701 : INFO : EPOCH 2 - PROGRESS: at 75.57% examples, 431701 words/s, in_qsize 15, out_qsize 0\n",
            "2021-07-16 05:44:42,776 : INFO : EPOCH 2 - PROGRESS: at 81.01% examples, 430993 words/s, in_qsize 15, out_qsize 2\n",
            "2021-07-16 05:44:43,827 : INFO : EPOCH 2 - PROGRESS: at 86.42% examples, 430062 words/s, in_qsize 15, out_qsize 0\n",
            "2021-07-16 05:44:44,832 : INFO : EPOCH 2 - PROGRESS: at 92.17% examples, 432301 words/s, in_qsize 15, out_qsize 0\n",
            "2021-07-16 05:44:45,839 : INFO : EPOCH 2 - PROGRESS: at 97.29% examples, 431393 words/s, in_qsize 16, out_qsize 0\n",
            "2021-07-16 05:44:46,195 : INFO : worker thread finished; awaiting finish of 7 more threads\n",
            "2021-07-16 05:44:46,200 : INFO : worker thread finished; awaiting finish of 6 more threads\n",
            "2021-07-16 05:44:46,209 : INFO : worker thread finished; awaiting finish of 5 more threads\n",
            "2021-07-16 05:44:46,219 : INFO : worker thread finished; awaiting finish of 4 more threads\n",
            "2021-07-16 05:44:46,235 : INFO : worker thread finished; awaiting finish of 3 more threads\n",
            "2021-07-16 05:44:46,240 : INFO : worker thread finished; awaiting finish of 2 more threads\n",
            "2021-07-16 05:44:46,246 : INFO : worker thread finished; awaiting finish of 1 more threads\n",
            "2021-07-16 05:44:46,256 : INFO : worker thread finished; awaiting finish of 0 more threads\n",
            "2021-07-16 05:44:46,258 : INFO : EPOCH - 2 : training on 9227204 raw words (8222411 effective words) took 19.0s, 433673 effective words/s\n",
            "2021-07-16 05:44:47,270 : INFO : EPOCH 3 - PROGRESS: at 4.56% examples, 373559 words/s, in_qsize 12, out_qsize 2\n",
            "2021-07-16 05:44:48,293 : INFO : EPOCH 3 - PROGRESS: at 9.88% examples, 400789 words/s, in_qsize 15, out_qsize 2\n",
            "2021-07-16 05:44:49,294 : INFO : EPOCH 3 - PROGRESS: at 15.41% examples, 418196 words/s, in_qsize 15, out_qsize 0\n",
            "2021-07-16 05:44:50,333 : INFO : EPOCH 3 - PROGRESS: at 20.92% examples, 423043 words/s, in_qsize 14, out_qsize 1\n",
            "2021-07-16 05:44:51,342 : INFO : EPOCH 3 - PROGRESS: at 26.45% examples, 428403 words/s, in_qsize 14, out_qsize 1\n",
            "2021-07-16 05:44:52,363 : INFO : EPOCH 3 - PROGRESS: at 31.86% examples, 429775 words/s, in_qsize 16, out_qsize 2\n",
            "2021-07-16 05:44:53,477 : INFO : EPOCH 3 - PROGRESS: at 37.70% examples, 430066 words/s, in_qsize 13, out_qsize 7\n",
            "2021-07-16 05:44:54,509 : INFO : EPOCH 3 - PROGRESS: at 43.21% examples, 431315 words/s, in_qsize 14, out_qsize 6\n",
            "2021-07-16 05:44:55,542 : INFO : EPOCH 3 - PROGRESS: at 48.95% examples, 434155 words/s, in_qsize 15, out_qsize 0\n",
            "2021-07-16 05:44:56,545 : INFO : EPOCH 3 - PROGRESS: at 54.24% examples, 434283 words/s, in_qsize 15, out_qsize 0\n",
            "2021-07-16 05:44:57,594 : INFO : EPOCH 3 - PROGRESS: at 59.76% examples, 434178 words/s, in_qsize 15, out_qsize 0\n",
            "2021-07-16 05:44:58,606 : INFO : EPOCH 3 - PROGRESS: at 64.95% examples, 433238 words/s, in_qsize 12, out_qsize 2\n",
            "2021-07-16 05:44:59,609 : INFO : EPOCH 3 - PROGRESS: at 70.37% examples, 434048 words/s, in_qsize 16, out_qsize 0\n",
            "2021-07-16 05:45:00,627 : INFO : EPOCH 3 - PROGRESS: at 75.67% examples, 434144 words/s, in_qsize 15, out_qsize 1\n",
            "2021-07-16 05:45:01,621 : INFO : EPOCH 3 - PROGRESS: at 81.12% examples, 434597 words/s, in_qsize 13, out_qsize 2\n",
            "2021-07-16 05:45:02,669 : INFO : EPOCH 3 - PROGRESS: at 87.18% examples, 437227 words/s, in_qsize 16, out_qsize 0\n",
            "2021-07-16 05:45:03,670 : INFO : EPOCH 3 - PROGRESS: at 92.28% examples, 436103 words/s, in_qsize 15, out_qsize 0\n",
            "2021-07-16 05:45:04,687 : INFO : EPOCH 3 - PROGRESS: at 97.60% examples, 435743 words/s, in_qsize 15, out_qsize 0\n",
            "2021-07-16 05:45:04,918 : INFO : worker thread finished; awaiting finish of 7 more threads\n",
            "2021-07-16 05:45:04,976 : INFO : worker thread finished; awaiting finish of 6 more threads\n",
            "2021-07-16 05:45:04,990 : INFO : worker thread finished; awaiting finish of 5 more threads\n",
            "2021-07-16 05:45:04,996 : INFO : worker thread finished; awaiting finish of 4 more threads\n",
            "2021-07-16 05:45:04,998 : INFO : worker thread finished; awaiting finish of 3 more threads\n",
            "2021-07-16 05:45:05,010 : INFO : worker thread finished; awaiting finish of 2 more threads\n",
            "2021-07-16 05:45:05,021 : INFO : worker thread finished; awaiting finish of 1 more threads\n",
            "2021-07-16 05:45:05,026 : INFO : worker thread finished; awaiting finish of 0 more threads\n",
            "2021-07-16 05:45:05,027 : INFO : EPOCH - 3 : training on 9227204 raw words (8222357 effective words) took 18.8s, 438344 effective words/s\n",
            "2021-07-16 05:45:06,059 : INFO : EPOCH 4 - PROGRESS: at 4.78% examples, 385961 words/s, in_qsize 14, out_qsize 1\n",
            "2021-07-16 05:45:07,068 : INFO : EPOCH 4 - PROGRESS: at 10.53% examples, 426989 words/s, in_qsize 15, out_qsize 0\n",
            "2021-07-16 05:45:08,082 : INFO : EPOCH 4 - PROGRESS: at 15.84% examples, 428109 words/s, in_qsize 16, out_qsize 0\n",
            "2021-07-16 05:45:09,133 : INFO : EPOCH 4 - PROGRESS: at 21.46% examples, 431271 words/s, in_qsize 15, out_qsize 0\n",
            "2021-07-16 05:45:10,149 : INFO : EPOCH 4 - PROGRESS: at 26.99% examples, 434432 words/s, in_qsize 16, out_qsize 1\n",
            "2021-07-16 05:45:11,157 : INFO : EPOCH 4 - PROGRESS: at 32.30% examples, 434748 words/s, in_qsize 15, out_qsize 1\n",
            "2021-07-16 05:45:12,151 : INFO : EPOCH 4 - PROGRESS: at 38.03% examples, 439836 words/s, in_qsize 16, out_qsize 0\n",
            "2021-07-16 05:45:13,172 : INFO : EPOCH 4 - PROGRESS: at 43.86% examples, 443797 words/s, in_qsize 16, out_qsize 1\n",
            "2021-07-16 05:45:14,184 : INFO : EPOCH 4 - PROGRESS: at 49.38% examples, 444320 words/s, in_qsize 15, out_qsize 0\n",
            "2021-07-16 05:45:15,184 : INFO : EPOCH 4 - PROGRESS: at 54.67% examples, 443580 words/s, in_qsize 16, out_qsize 0\n",
            "2021-07-16 05:45:16,252 : INFO : EPOCH 4 - PROGRESS: at 60.52% examples, 444266 words/s, in_qsize 15, out_qsize 0\n",
            "2021-07-16 05:45:17,323 : INFO : EPOCH 4 - PROGRESS: at 66.15% examples, 443242 words/s, in_qsize 15, out_qsize 0\n",
            "2021-07-16 05:45:18,379 : INFO : EPOCH 4 - PROGRESS: at 71.67% examples, 442208 words/s, in_qsize 15, out_qsize 1\n",
            "2021-07-16 05:45:19,411 : INFO : EPOCH 4 - PROGRESS: at 77.20% examples, 442046 words/s, in_qsize 14, out_qsize 1\n",
            "2021-07-16 05:45:20,415 : INFO : EPOCH 4 - PROGRESS: at 82.74% examples, 442713 words/s, in_qsize 15, out_qsize 0\n",
            "2021-07-16 05:45:21,468 : INFO : EPOCH 4 - PROGRESS: at 88.59% examples, 443594 words/s, in_qsize 16, out_qsize 0\n",
            "2021-07-16 05:45:22,485 : INFO : EPOCH 4 - PROGRESS: at 94.36% examples, 444767 words/s, in_qsize 14, out_qsize 0\n",
            "2021-07-16 05:45:23,401 : INFO : worker thread finished; awaiting finish of 7 more threads\n",
            "2021-07-16 05:45:23,424 : INFO : worker thread finished; awaiting finish of 6 more threads\n",
            "2021-07-16 05:45:23,449 : INFO : worker thread finished; awaiting finish of 5 more threads\n",
            "2021-07-16 05:45:23,489 : INFO : EPOCH 4 - PROGRESS: at 99.56% examples, 443806 words/s, in_qsize 4, out_qsize 1\n",
            "2021-07-16 05:45:23,491 : INFO : worker thread finished; awaiting finish of 4 more threads\n",
            "2021-07-16 05:45:23,493 : INFO : worker thread finished; awaiting finish of 3 more threads\n",
            "2021-07-16 05:45:23,503 : INFO : worker thread finished; awaiting finish of 2 more threads\n",
            "2021-07-16 05:45:23,506 : INFO : worker thread finished; awaiting finish of 1 more threads\n",
            "2021-07-16 05:45:23,514 : INFO : worker thread finished; awaiting finish of 0 more threads\n",
            "2021-07-16 05:45:23,515 : INFO : EPOCH - 4 : training on 9227204 raw words (8221971 effective words) took 18.5s, 445110 effective words/s\n",
            "2021-07-16 05:45:24,531 : INFO : EPOCH 5 - PROGRESS: at 5.11% examples, 417367 words/s, in_qsize 15, out_qsize 0\n",
            "2021-07-16 05:45:25,545 : INFO : EPOCH 5 - PROGRESS: at 10.31% examples, 419793 words/s, in_qsize 15, out_qsize 0\n",
            "2021-07-16 05:45:26,559 : INFO : EPOCH 5 - PROGRESS: at 15.73% examples, 426204 words/s, in_qsize 14, out_qsize 1\n",
            "2021-07-16 05:45:27,562 : INFO : EPOCH 5 - PROGRESS: at 21.46% examples, 437258 words/s, in_qsize 15, out_qsize 0\n",
            "2021-07-16 05:45:28,565 : INFO : EPOCH 5 - PROGRESS: at 26.78% examples, 436842 words/s, in_qsize 16, out_qsize 1\n",
            "2021-07-16 05:45:29,577 : INFO : EPOCH 5 - PROGRESS: at 32.19% examples, 437424 words/s, in_qsize 16, out_qsize 0\n",
            "2021-07-16 05:45:30,592 : INFO : EPOCH 5 - PROGRESS: at 37.81% examples, 440152 words/s, in_qsize 16, out_qsize 0\n",
            "2021-07-16 05:45:31,682 : INFO : EPOCH 5 - PROGRESS: at 43.75% examples, 441391 words/s, in_qsize 14, out_qsize 1\n",
            "2021-07-16 05:45:32,728 : INFO : EPOCH 5 - PROGRESS: at 49.70% examples, 444441 words/s, in_qsize 15, out_qsize 0\n",
            "2021-07-16 05:45:33,743 : INFO : EPOCH 5 - PROGRESS: at 54.99% examples, 443044 words/s, in_qsize 15, out_qsize 0\n",
            "2021-07-16 05:45:34,753 : INFO : EPOCH 5 - PROGRESS: at 60.85% examples, 446098 words/s, in_qsize 16, out_qsize 0\n",
            "2021-07-16 05:45:35,781 : INFO : EPOCH 5 - PROGRESS: at 66.37% examples, 445710 words/s, in_qsize 15, out_qsize 0\n",
            "2021-07-16 05:45:36,799 : INFO : EPOCH 5 - PROGRESS: at 71.99% examples, 446409 words/s, in_qsize 15, out_qsize 0\n",
            "2021-07-16 05:45:37,808 : INFO : EPOCH 5 - PROGRESS: at 77.42% examples, 446050 words/s, in_qsize 15, out_qsize 0\n",
            "2021-07-16 05:45:38,825 : INFO : EPOCH 5 - PROGRESS: at 82.74% examples, 444923 words/s, in_qsize 16, out_qsize 0\n",
            "2021-07-16 05:45:39,826 : INFO : EPOCH 5 - PROGRESS: at 88.26% examples, 445479 words/s, in_qsize 15, out_qsize 0\n",
            "2021-07-16 05:45:40,835 : INFO : EPOCH 5 - PROGRESS: at 93.70% examples, 445194 words/s, in_qsize 15, out_qsize 0\n",
            "2021-07-16 05:45:41,833 : INFO : worker thread finished; awaiting finish of 7 more threads\n",
            "2021-07-16 05:45:41,845 : INFO : EPOCH 5 - PROGRESS: at 99.44% examples, 446437 words/s, in_qsize 4, out_qsize 5\n",
            "2021-07-16 05:45:41,848 : INFO : worker thread finished; awaiting finish of 6 more threads\n",
            "2021-07-16 05:45:41,852 : INFO : worker thread finished; awaiting finish of 5 more threads\n",
            "2021-07-16 05:45:41,853 : INFO : worker thread finished; awaiting finish of 4 more threads\n",
            "2021-07-16 05:45:41,880 : INFO : worker thread finished; awaiting finish of 3 more threads\n",
            "2021-07-16 05:45:41,885 : INFO : worker thread finished; awaiting finish of 2 more threads\n",
            "2021-07-16 05:45:41,899 : INFO : worker thread finished; awaiting finish of 1 more threads\n",
            "2021-07-16 05:45:41,904 : INFO : worker thread finished; awaiting finish of 0 more threads\n",
            "2021-07-16 05:45:41,905 : INFO : EPOCH - 5 : training on 9227204 raw words (8222358 effective words) took 18.4s, 447454 effective words/s\n",
            "2021-07-16 05:45:43,009 : INFO : EPOCH 6 - PROGRESS: at 5.32% examples, 399351 words/s, in_qsize 15, out_qsize 0\n",
            "2021-07-16 05:45:44,054 : INFO : EPOCH 6 - PROGRESS: at 10.75% examples, 412653 words/s, in_qsize 15, out_qsize 0\n",
            "2021-07-16 05:45:45,061 : INFO : EPOCH 6 - PROGRESS: at 15.95% examples, 416474 words/s, in_qsize 16, out_qsize 7\n",
            "2021-07-16 05:45:46,104 : INFO : EPOCH 6 - PROGRESS: at 21.68% examples, 425437 words/s, in_qsize 14, out_qsize 1\n",
            "2021-07-16 05:45:47,207 : INFO : EPOCH 6 - PROGRESS: at 27.75% examples, 431102 words/s, in_qsize 15, out_qsize 0\n",
            "2021-07-16 05:45:48,216 : INFO : EPOCH 6 - PROGRESS: at 33.27% examples, 434144 words/s, in_qsize 15, out_qsize 3\n",
            "2021-07-16 05:45:49,219 : INFO : EPOCH 6 - PROGRESS: at 39.00% examples, 439148 words/s, in_qsize 16, out_qsize 2\n",
            "2021-07-16 05:45:50,249 : INFO : EPOCH 6 - PROGRESS: at 44.73% examples, 441579 words/s, in_qsize 16, out_qsize 0\n",
            "2021-07-16 05:45:51,257 : INFO : EPOCH 6 - PROGRESS: at 50.02% examples, 440655 words/s, in_qsize 15, out_qsize 0\n",
            "2021-07-16 05:45:52,288 : INFO : EPOCH 6 - PROGRESS: at 55.86% examples, 443275 words/s, in_qsize 15, out_qsize 0\n",
            "2021-07-16 05:45:53,322 : INFO : EPOCH 6 - PROGRESS: at 61.39% examples, 442933 words/s, in_qsize 16, out_qsize 0\n",
            "2021-07-16 05:45:54,401 : INFO : EPOCH 6 - PROGRESS: at 67.34% examples, 443882 words/s, in_qsize 15, out_qsize 1\n",
            "2021-07-16 05:45:55,490 : INFO : EPOCH 6 - PROGRESS: at 73.40% examples, 445408 words/s, in_qsize 15, out_qsize 2\n",
            "2021-07-16 05:45:56,503 : INFO : EPOCH 6 - PROGRESS: at 79.16% examples, 446468 words/s, in_qsize 15, out_qsize 0\n",
            "2021-07-16 05:45:57,532 : INFO : EPOCH 6 - PROGRESS: at 84.69% examples, 446138 words/s, in_qsize 15, out_qsize 0\n",
            "2021-07-16 05:45:58,567 : INFO : EPOCH 6 - PROGRESS: at 90.44% examples, 446746 words/s, in_qsize 15, out_qsize 0\n",
            "2021-07-16 05:45:59,580 : INFO : EPOCH 6 - PROGRESS: at 95.99% examples, 446929 words/s, in_qsize 16, out_qsize 3\n",
            "2021-07-16 05:46:00,101 : INFO : worker thread finished; awaiting finish of 7 more threads\n",
            "2021-07-16 05:46:00,121 : INFO : worker thread finished; awaiting finish of 6 more threads\n",
            "2021-07-16 05:46:00,128 : INFO : worker thread finished; awaiting finish of 5 more threads\n",
            "2021-07-16 05:46:00,155 : INFO : worker thread finished; awaiting finish of 4 more threads\n",
            "2021-07-16 05:46:00,175 : INFO : worker thread finished; awaiting finish of 3 more threads\n",
            "2021-07-16 05:46:00,183 : INFO : worker thread finished; awaiting finish of 2 more threads\n",
            "2021-07-16 05:46:00,185 : INFO : worker thread finished; awaiting finish of 1 more threads\n",
            "2021-07-16 05:46:00,187 : INFO : worker thread finished; awaiting finish of 0 more threads\n",
            "2021-07-16 05:46:00,188 : INFO : EPOCH - 6 : training on 9227204 raw words (8223053 effective words) took 18.3s, 450066 effective words/s\n",
            "2021-07-16 05:46:01,222 : INFO : EPOCH 7 - PROGRESS: at 5.11% examples, 409134 words/s, in_qsize 15, out_qsize 0\n",
            "2021-07-16 05:46:02,264 : INFO : EPOCH 7 - PROGRESS: at 10.64% examples, 423021 words/s, in_qsize 15, out_qsize 0\n",
            "2021-07-16 05:46:03,266 : INFO : EPOCH 7 - PROGRESS: at 16.16% examples, 432723 words/s, in_qsize 15, out_qsize 0\n",
            "2021-07-16 05:46:04,271 : INFO : EPOCH 7 - PROGRESS: at 21.57% examples, 435339 words/s, in_qsize 15, out_qsize 0\n",
            "2021-07-16 05:46:05,275 : INFO : EPOCH 7 - PROGRESS: at 27.09% examples, 438806 words/s, in_qsize 16, out_qsize 3\n",
            "2021-07-16 05:46:06,290 : INFO : EPOCH 7 - PROGRESS: at 32.62% examples, 440267 words/s, in_qsize 13, out_qsize 2\n",
            "2021-07-16 05:46:07,295 : INFO : EPOCH 7 - PROGRESS: at 38.35% examples, 444412 words/s, in_qsize 13, out_qsize 2\n",
            "2021-07-16 05:46:08,363 : INFO : EPOCH 7 - PROGRESS: at 44.18% examples, 445152 words/s, in_qsize 15, out_qsize 0\n",
            "2021-07-16 05:46:09,370 : INFO : EPOCH 7 - PROGRESS: at 49.70% examples, 445821 words/s, in_qsize 14, out_qsize 1\n",
            "2021-07-16 05:46:10,437 : INFO : EPOCH 7 - PROGRESS: at 55.43% examples, 445494 words/s, in_qsize 15, out_qsize 0\n",
            "2021-07-16 05:46:11,466 : INFO : EPOCH 7 - PROGRESS: at 61.07% examples, 445960 words/s, in_qsize 15, out_qsize 2\n",
            "2021-07-16 05:46:12,491 : INFO : EPOCH 7 - PROGRESS: at 66.58% examples, 445699 words/s, in_qsize 13, out_qsize 6\n",
            "2021-07-16 05:46:13,498 : INFO : EPOCH 7 - PROGRESS: at 72.75% examples, 450119 words/s, in_qsize 15, out_qsize 0\n",
            "2021-07-16 05:46:14,547 : INFO : EPOCH 7 - PROGRESS: at 78.29% examples, 448871 words/s, in_qsize 15, out_qsize 0\n",
            "2021-07-16 05:46:15,584 : INFO : EPOCH 7 - PROGRESS: at 83.94% examples, 448746 words/s, in_qsize 16, out_qsize 0\n",
            "2021-07-16 05:46:16,677 : INFO : EPOCH 7 - PROGRESS: at 90.10% examples, 449753 words/s, in_qsize 14, out_qsize 1\n",
            "2021-07-16 05:46:17,704 : INFO : EPOCH 7 - PROGRESS: at 95.77% examples, 449799 words/s, in_qsize 15, out_qsize 0\n",
            "2021-07-16 05:46:18,301 : INFO : worker thread finished; awaiting finish of 7 more threads\n",
            "2021-07-16 05:46:18,314 : INFO : worker thread finished; awaiting finish of 6 more threads\n",
            "2021-07-16 05:46:18,316 : INFO : worker thread finished; awaiting finish of 5 more threads\n",
            "2021-07-16 05:46:18,335 : INFO : worker thread finished; awaiting finish of 4 more threads\n",
            "2021-07-16 05:46:18,345 : INFO : worker thread finished; awaiting finish of 3 more threads\n",
            "2021-07-16 05:46:18,352 : INFO : worker thread finished; awaiting finish of 2 more threads\n",
            "2021-07-16 05:46:18,361 : INFO : worker thread finished; awaiting finish of 1 more threads\n",
            "2021-07-16 05:46:18,364 : INFO : worker thread finished; awaiting finish of 0 more threads\n",
            "2021-07-16 05:46:18,366 : INFO : EPOCH - 7 : training on 9227204 raw words (8222207 effective words) took 18.2s, 452595 effective words/s\n",
            "2021-07-16 05:46:19,385 : INFO : EPOCH 8 - PROGRESS: at 5.00% examples, 406492 words/s, in_qsize 14, out_qsize 1\n",
            "2021-07-16 05:46:20,388 : INFO : EPOCH 8 - PROGRESS: at 10.86% examples, 443343 words/s, in_qsize 13, out_qsize 2\n",
            "2021-07-16 05:46:21,397 : INFO : EPOCH 8 - PROGRESS: at 16.48% examples, 448324 words/s, in_qsize 13, out_qsize 2\n",
            "2021-07-16 05:46:22,409 : INFO : EPOCH 8 - PROGRESS: at 22.01% examples, 448480 words/s, in_qsize 14, out_qsize 0\n",
            "2021-07-16 05:46:23,440 : INFO : EPOCH 8 - PROGRESS: at 27.53% examples, 446914 words/s, in_qsize 12, out_qsize 3\n",
            "2021-07-16 05:46:24,504 : INFO : EPOCH 8 - PROGRESS: at 33.49% examples, 449304 words/s, in_qsize 16, out_qsize 0\n",
            "2021-07-16 05:46:25,562 : INFO : EPOCH 8 - PROGRESS: at 39.22% examples, 448819 words/s, in_qsize 15, out_qsize 0\n",
            "2021-07-16 05:46:26,569 : INFO : EPOCH 8 - PROGRESS: at 45.16% examples, 453484 words/s, in_qsize 15, out_qsize 0\n",
            "2021-07-16 05:46:27,582 : INFO : EPOCH 8 - PROGRESS: at 50.56% examples, 451940 words/s, in_qsize 15, out_qsize 0\n",
            "2021-07-16 05:46:28,638 : INFO : EPOCH 8 - PROGRESS: at 56.08% examples, 449779 words/s, in_qsize 15, out_qsize 0\n",
            "2021-07-16 05:46:29,722 : INFO : EPOCH 8 - PROGRESS: at 61.93% examples, 449202 words/s, in_qsize 15, out_qsize 0\n",
            "2021-07-16 05:46:30,795 : INFO : EPOCH 8 - PROGRESS: at 67.45% examples, 446977 words/s, in_qsize 15, out_qsize 0\n",
            "2021-07-16 05:46:31,806 : INFO : EPOCH 8 - PROGRESS: at 73.08% examples, 447808 words/s, in_qsize 15, out_qsize 0\n",
            "2021-07-16 05:46:32,877 : INFO : EPOCH 8 - PROGRESS: at 79.05% examples, 448519 words/s, in_qsize 15, out_qsize 0\n",
            "2021-07-16 05:46:33,916 : INFO : EPOCH 8 - PROGRESS: at 84.91% examples, 449492 words/s, in_qsize 15, out_qsize 0\n",
            "2021-07-16 05:46:34,932 : INFO : EPOCH 8 - PROGRESS: at 90.44% examples, 449343 words/s, in_qsize 16, out_qsize 2\n",
            "2021-07-16 05:46:35,963 : INFO : EPOCH 8 - PROGRESS: at 96.53% examples, 451335 words/s, in_qsize 13, out_qsize 1\n",
            "2021-07-16 05:46:36,465 : INFO : worker thread finished; awaiting finish of 7 more threads\n",
            "2021-07-16 05:46:36,471 : INFO : worker thread finished; awaiting finish of 6 more threads\n",
            "2021-07-16 05:46:36,476 : INFO : worker thread finished; awaiting finish of 5 more threads\n",
            "2021-07-16 05:46:36,527 : INFO : worker thread finished; awaiting finish of 4 more threads\n",
            "2021-07-16 05:46:36,543 : INFO : worker thread finished; awaiting finish of 3 more threads\n",
            "2021-07-16 05:46:36,551 : INFO : worker thread finished; awaiting finish of 2 more threads\n",
            "2021-07-16 05:46:36,558 : INFO : worker thread finished; awaiting finish of 1 more threads\n",
            "2021-07-16 05:46:36,560 : INFO : worker thread finished; awaiting finish of 0 more threads\n",
            "2021-07-16 05:46:36,563 : INFO : EPOCH - 8 : training on 9227204 raw words (8223415 effective words) took 18.2s, 452193 effective words/s\n",
            "2021-07-16 05:46:37,597 : INFO : EPOCH 9 - PROGRESS: at 5.00% examples, 400521 words/s, in_qsize 14, out_qsize 1\n",
            "2021-07-16 05:46:38,599 : INFO : EPOCH 9 - PROGRESS: at 10.53% examples, 426965 words/s, in_qsize 13, out_qsize 4\n",
            "2021-07-16 05:46:39,668 : INFO : EPOCH 9 - PROGRESS: at 16.48% examples, 437635 words/s, in_qsize 14, out_qsize 1\n",
            "2021-07-16 05:46:40,716 : INFO : EPOCH 9 - PROGRESS: at 22.33% examples, 443087 words/s, in_qsize 15, out_qsize 0\n",
            "2021-07-16 05:46:41,773 : INFO : EPOCH 9 - PROGRESS: at 28.29% examples, 447195 words/s, in_qsize 15, out_qsize 0\n",
            "2021-07-16 05:46:42,774 : INFO : EPOCH 9 - PROGRESS: at 33.92% examples, 449701 words/s, in_qsize 15, out_qsize 0\n",
            "2021-07-16 05:46:43,808 : INFO : EPOCH 9 - PROGRESS: at 39.22% examples, 445773 words/s, in_qsize 15, out_qsize 0\n",
            "2021-07-16 05:46:44,835 : INFO : EPOCH 9 - PROGRESS: at 45.16% examples, 449614 words/s, in_qsize 14, out_qsize 1\n",
            "2021-07-16 05:46:45,916 : INFO : EPOCH 9 - PROGRESS: at 50.88% examples, 448135 words/s, in_qsize 15, out_qsize 0\n",
            "2021-07-16 05:46:46,921 : INFO : EPOCH 9 - PROGRESS: at 57.06% examples, 453667 words/s, in_qsize 15, out_qsize 0\n",
            "2021-07-16 05:46:47,965 : INFO : EPOCH 9 - PROGRESS: at 62.46% examples, 451215 words/s, in_qsize 14, out_qsize 1\n",
            "2021-07-16 05:46:48,999 : INFO : EPOCH 9 - PROGRESS: at 68.42% examples, 453086 words/s, in_qsize 15, out_qsize 0\n",
            "2021-07-16 05:46:50,015 : INFO : EPOCH 9 - PROGRESS: at 74.27% examples, 454619 words/s, in_qsize 13, out_qsize 2\n",
            "2021-07-16 05:46:51,018 : INFO : EPOCH 9 - PROGRESS: at 79.71% examples, 453897 words/s, in_qsize 15, out_qsize 2\n",
            "2021-07-16 05:46:52,034 : INFO : EPOCH 9 - PROGRESS: at 85.45% examples, 454615 words/s, in_qsize 15, out_qsize 0\n",
            "2021-07-16 05:46:53,049 : INFO : EPOCH 9 - PROGRESS: at 90.98% examples, 454149 words/s, in_qsize 16, out_qsize 4\n",
            "2021-07-16 05:46:54,100 : INFO : EPOCH 9 - PROGRESS: at 97.07% examples, 455378 words/s, in_qsize 15, out_qsize 0\n",
            "2021-07-16 05:46:54,423 : INFO : worker thread finished; awaiting finish of 7 more threads\n",
            "2021-07-16 05:46:54,443 : INFO : worker thread finished; awaiting finish of 6 more threads\n",
            "2021-07-16 05:46:54,490 : INFO : worker thread finished; awaiting finish of 5 more threads\n",
            "2021-07-16 05:46:54,494 : INFO : worker thread finished; awaiting finish of 4 more threads\n",
            "2021-07-16 05:46:54,497 : INFO : worker thread finished; awaiting finish of 3 more threads\n",
            "2021-07-16 05:46:54,507 : INFO : worker thread finished; awaiting finish of 2 more threads\n",
            "2021-07-16 05:46:54,517 : INFO : worker thread finished; awaiting finish of 1 more threads\n",
            "2021-07-16 05:46:54,518 : INFO : worker thread finished; awaiting finish of 0 more threads\n",
            "2021-07-16 05:46:54,519 : INFO : EPOCH - 9 : training on 9227204 raw words (8222258 effective words) took 17.9s, 458211 effective words/s\n",
            "2021-07-16 05:46:55,533 : INFO : EPOCH 10 - PROGRESS: at 4.89% examples, 400475 words/s, in_qsize 13, out_qsize 2\n",
            "2021-07-16 05:46:56,553 : INFO : EPOCH 10 - PROGRESS: at 10.86% examples, 441254 words/s, in_qsize 15, out_qsize 0\n",
            "2021-07-16 05:46:57,555 : INFO : EPOCH 10 - PROGRESS: at 16.81% examples, 456865 words/s, in_qsize 15, out_qsize 0\n",
            "2021-07-16 05:46:58,596 : INFO : EPOCH 10 - PROGRESS: at 22.33% examples, 451613 words/s, in_qsize 15, out_qsize 0\n",
            "2021-07-16 05:46:59,620 : INFO : EPOCH 10 - PROGRESS: at 27.96% examples, 451762 words/s, in_qsize 15, out_qsize 0\n",
            "2021-07-16 05:47:00,622 : INFO : EPOCH 10 - PROGRESS: at 33.81% examples, 456444 words/s, in_qsize 15, out_qsize 0\n",
            "2021-07-16 05:47:01,623 : INFO : EPOCH 10 - PROGRESS: at 39.22% examples, 454886 words/s, in_qsize 15, out_qsize 0\n",
            "2021-07-16 05:47:02,653 : INFO : EPOCH 10 - PROGRESS: at 44.72% examples, 453067 words/s, in_qsize 14, out_qsize 1\n",
            "2021-07-16 05:47:03,659 : INFO : EPOCH 10 - PROGRESS: at 50.56% examples, 455874 words/s, in_qsize 12, out_qsize 3\n",
            "2021-07-16 05:47:04,689 : INFO : EPOCH 10 - PROGRESS: at 56.29% examples, 456196 words/s, in_qsize 15, out_qsize 0\n",
            "2021-07-16 05:47:05,696 : INFO : EPOCH 10 - PROGRESS: at 61.71% examples, 454917 words/s, in_qsize 15, out_qsize 0\n",
            "2021-07-16 05:47:06,717 : INFO : EPOCH 10 - PROGRESS: at 67.13% examples, 453348 words/s, in_qsize 11, out_qsize 4\n",
            "2021-07-16 05:47:07,723 : INFO : EPOCH 10 - PROGRESS: at 72.64% examples, 453184 words/s, in_qsize 15, out_qsize 0\n",
            "2021-07-16 05:47:08,726 : INFO : EPOCH 10 - PROGRESS: at 78.07% examples, 452567 words/s, in_qsize 13, out_qsize 2\n",
            "2021-07-16 05:47:09,731 : INFO : EPOCH 10 - PROGRESS: at 83.62% examples, 452509 words/s, in_qsize 16, out_qsize 0\n",
            "2021-07-16 05:47:10,779 : INFO : EPOCH 10 - PROGRESS: at 89.45% examples, 452913 words/s, in_qsize 15, out_qsize 0\n",
            "2021-07-16 05:47:11,789 : INFO : EPOCH 10 - PROGRESS: at 94.90% examples, 452184 words/s, in_qsize 14, out_qsize 2\n",
            "2021-07-16 05:47:12,527 : INFO : worker thread finished; awaiting finish of 7 more threads\n",
            "2021-07-16 05:47:12,531 : INFO : worker thread finished; awaiting finish of 6 more threads\n",
            "2021-07-16 05:47:12,535 : INFO : worker thread finished; awaiting finish of 5 more threads\n",
            "2021-07-16 05:47:12,544 : INFO : worker thread finished; awaiting finish of 4 more threads\n",
            "2021-07-16 05:47:12,545 : INFO : worker thread finished; awaiting finish of 3 more threads\n",
            "2021-07-16 05:47:12,559 : INFO : worker thread finished; awaiting finish of 2 more threads\n",
            "2021-07-16 05:47:12,567 : INFO : worker thread finished; awaiting finish of 1 more threads\n",
            "2021-07-16 05:47:12,585 : INFO : worker thread finished; awaiting finish of 0 more threads\n",
            "2021-07-16 05:47:12,586 : INFO : EPOCH - 10 : training on 9227204 raw words (8222591 effective words) took 18.1s, 455457 effective words/s\n",
            "2021-07-16 05:47:13,670 : INFO : EPOCH 11 - PROGRESS: at 5.43% examples, 415570 words/s, in_qsize 16, out_qsize 0\n",
            "2021-07-16 05:47:14,771 : INFO : EPOCH 11 - PROGRESS: at 11.40% examples, 430789 words/s, in_qsize 15, out_qsize 0\n",
            "2021-07-16 05:47:15,771 : INFO : EPOCH 11 - PROGRESS: at 17.13% examples, 443469 words/s, in_qsize 16, out_qsize 0\n",
            "2021-07-16 05:47:16,795 : INFO : EPOCH 11 - PROGRESS: at 22.98% examples, 449999 words/s, in_qsize 15, out_qsize 0\n",
            "2021-07-16 05:47:17,864 : INFO : EPOCH 11 - PROGRESS: at 28.72% examples, 448333 words/s, in_qsize 15, out_qsize 0\n",
            "2021-07-16 05:47:18,906 : INFO : EPOCH 11 - PROGRESS: at 34.89% examples, 454730 words/s, in_qsize 15, out_qsize 0\n",
            "2021-07-16 05:47:19,924 : INFO : EPOCH 11 - PROGRESS: at 40.19% examples, 451107 words/s, in_qsize 14, out_qsize 1\n",
            "2021-07-16 05:47:20,946 : INFO : EPOCH 11 - PROGRESS: at 45.92% examples, 452396 words/s, in_qsize 15, out_qsize 0\n",
            "2021-07-16 05:47:21,951 : INFO : EPOCH 11 - PROGRESS: at 51.64% examples, 454348 words/s, in_qsize 14, out_qsize 1\n",
            "2021-07-16 05:47:22,995 : INFO : EPOCH 11 - PROGRESS: at 57.27% examples, 454104 words/s, in_qsize 15, out_qsize 0\n",
            "2021-07-16 05:47:24,012 : INFO : EPOCH 11 - PROGRESS: at 62.79% examples, 452701 words/s, in_qsize 15, out_qsize 0\n",
            "2021-07-16 05:47:25,079 : INFO : EPOCH 11 - PROGRESS: at 68.64% examples, 453095 words/s, in_qsize 15, out_qsize 4\n",
            "2021-07-16 05:47:26,108 : INFO : EPOCH 11 - PROGRESS: at 74.48% examples, 453644 words/s, in_qsize 15, out_qsize 0\n",
            "2021-07-16 05:47:27,111 : INFO : EPOCH 11 - PROGRESS: at 80.14% examples, 454191 words/s, in_qsize 15, out_qsize 1\n",
            "2021-07-16 05:47:28,149 : INFO : EPOCH 11 - PROGRESS: at 85.99% examples, 454791 words/s, in_qsize 16, out_qsize 1\n",
            "2021-07-16 05:47:29,162 : INFO : EPOCH 11 - PROGRESS: at 91.74% examples, 455479 words/s, in_qsize 15, out_qsize 0\n",
            "2021-07-16 05:47:30,217 : INFO : EPOCH 11 - PROGRESS: at 97.82% examples, 456483 words/s, in_qsize 15, out_qsize 0\n",
            "2021-07-16 05:47:30,455 : INFO : worker thread finished; awaiting finish of 7 more threads\n",
            "2021-07-16 05:47:30,462 : INFO : worker thread finished; awaiting finish of 6 more threads\n",
            "2021-07-16 05:47:30,468 : INFO : worker thread finished; awaiting finish of 5 more threads\n",
            "2021-07-16 05:47:30,483 : INFO : worker thread finished; awaiting finish of 4 more threads\n",
            "2021-07-16 05:47:30,500 : INFO : worker thread finished; awaiting finish of 3 more threads\n",
            "2021-07-16 05:47:30,510 : INFO : worker thread finished; awaiting finish of 2 more threads\n",
            "2021-07-16 05:47:30,529 : INFO : worker thread finished; awaiting finish of 1 more threads\n",
            "2021-07-16 05:47:30,534 : INFO : worker thread finished; awaiting finish of 0 more threads\n",
            "2021-07-16 05:47:30,535 : INFO : EPOCH - 11 : training on 9227204 raw words (8221785 effective words) took 17.9s, 458391 effective words/s\n",
            "2021-07-16 05:47:31,597 : INFO : EPOCH 12 - PROGRESS: at 5.21% examples, 407312 words/s, in_qsize 15, out_qsize 0\n",
            "2021-07-16 05:47:32,611 : INFO : EPOCH 12 - PROGRESS: at 11.40% examples, 453283 words/s, in_qsize 15, out_qsize 0\n",
            "2021-07-16 05:47:33,673 : INFO : EPOCH 12 - PROGRESS: at 17.13% examples, 450095 words/s, in_qsize 15, out_qsize 0\n",
            "2021-07-16 05:47:34,691 : INFO : EPOCH 12 - PROGRESS: at 22.54% examples, 446987 words/s, in_qsize 14, out_qsize 1\n",
            "2021-07-16 05:47:35,692 : INFO : EPOCH 12 - PROGRESS: at 28.18% examples, 450162 words/s, in_qsize 15, out_qsize 0\n",
            "2021-07-16 05:47:36,704 : INFO : EPOCH 12 - PROGRESS: at 33.59% examples, 448500 words/s, in_qsize 15, out_qsize 0\n",
            "2021-07-16 05:47:37,723 : INFO : EPOCH 12 - PROGRESS: at 39.22% examples, 449375 words/s, in_qsize 15, out_qsize 0\n",
            "2021-07-16 05:47:38,730 : INFO : EPOCH 12 - PROGRESS: at 45.16% examples, 453940 words/s, in_qsize 14, out_qsize 1\n",
            "2021-07-16 05:47:39,736 : INFO : EPOCH 12 - PROGRESS: at 50.67% examples, 453697 words/s, in_qsize 15, out_qsize 0\n",
            "2021-07-16 05:47:40,790 : INFO : EPOCH 12 - PROGRESS: at 56.18% examples, 451389 words/s, in_qsize 13, out_qsize 2\n",
            "2021-07-16 05:47:41,849 : INFO : EPOCH 12 - PROGRESS: at 62.14% examples, 453045 words/s, in_qsize 15, out_qsize 0\n",
            "2021-07-16 05:47:42,883 : INFO : EPOCH 12 - PROGRESS: at 67.56% examples, 450645 words/s, in_qsize 16, out_qsize 1\n",
            "2021-07-16 05:47:43,885 : INFO : EPOCH 12 - PROGRESS: at 73.19% examples, 451510 words/s, in_qsize 15, out_qsize 0\n",
            "2021-07-16 05:47:44,919 : INFO : EPOCH 12 - PROGRESS: at 79.27% examples, 453736 words/s, in_qsize 15, out_qsize 0\n",
            "2021-07-16 05:47:45,944 : INFO : EPOCH 12 - PROGRESS: at 84.80% examples, 453032 words/s, in_qsize 16, out_qsize 0\n",
            "2021-07-16 05:47:46,949 : INFO : EPOCH 12 - PROGRESS: at 90.11% examples, 451877 words/s, in_qsize 15, out_qsize 0\n",
            "2021-07-16 05:47:47,949 : INFO : EPOCH 12 - PROGRESS: at 95.44% examples, 450967 words/s, in_qsize 13, out_qsize 3\n",
            "2021-07-16 05:47:48,663 : INFO : worker thread finished; awaiting finish of 7 more threads\n",
            "2021-07-16 05:47:48,672 : INFO : worker thread finished; awaiting finish of 6 more threads\n",
            "2021-07-16 05:47:48,683 : INFO : worker thread finished; awaiting finish of 5 more threads\n",
            "2021-07-16 05:47:48,685 : INFO : worker thread finished; awaiting finish of 4 more threads\n",
            "2021-07-16 05:47:48,692 : INFO : worker thread finished; awaiting finish of 3 more threads\n",
            "2021-07-16 05:47:48,699 : INFO : worker thread finished; awaiting finish of 2 more threads\n",
            "2021-07-16 05:47:48,709 : INFO : worker thread finished; awaiting finish of 1 more threads\n",
            "2021-07-16 05:47:48,724 : INFO : worker thread finished; awaiting finish of 0 more threads\n",
            "2021-07-16 05:47:48,725 : INFO : EPOCH - 12 : training on 9227204 raw words (8222930 effective words) took 18.2s, 452363 effective words/s\n",
            "2021-07-16 05:47:49,820 : INFO : EPOCH 13 - PROGRESS: at 5.10% examples, 387588 words/s, in_qsize 15, out_qsize 0\n",
            "2021-07-16 05:47:50,830 : INFO : EPOCH 13 - PROGRESS: at 10.64% examples, 417879 words/s, in_qsize 15, out_qsize 0\n",
            "2021-07-16 05:47:51,834 : INFO : EPOCH 13 - PROGRESS: at 15.94% examples, 423242 words/s, in_qsize 15, out_qsize 0\n",
            "2021-07-16 05:47:52,855 : INFO : EPOCH 13 - PROGRESS: at 21.35% examples, 426430 words/s, in_qsize 16, out_qsize 4\n",
            "2021-07-16 05:47:53,897 : INFO : EPOCH 13 - PROGRESS: at 26.99% examples, 430139 words/s, in_qsize 15, out_qsize 5\n",
            "2021-07-16 05:47:54,929 : INFO : EPOCH 13 - PROGRESS: at 33.05% examples, 439053 words/s, in_qsize 15, out_qsize 0\n",
            "2021-07-16 05:47:55,953 : INFO : EPOCH 13 - PROGRESS: at 39.11% examples, 445869 words/s, in_qsize 15, out_qsize 0\n",
            "2021-07-16 05:47:56,954 : INFO : EPOCH 13 - PROGRESS: at 44.73% examples, 447899 words/s, in_qsize 15, out_qsize 0\n",
            "2021-07-16 05:47:57,995 : INFO : EPOCH 13 - PROGRESS: at 50.46% examples, 448594 words/s, in_qsize 15, out_qsize 0\n",
            "2021-07-16 05:47:59,002 : INFO : EPOCH 13 - PROGRESS: at 55.75% examples, 447136 words/s, in_qsize 15, out_qsize 0\n",
            "2021-07-16 05:48:00,066 : INFO : EPOCH 13 - PROGRESS: at 61.82% examples, 449165 words/s, in_qsize 14, out_qsize 1\n",
            "2021-07-16 05:48:01,072 : INFO : EPOCH 13 - PROGRESS: at 67.66% examples, 451520 words/s, in_qsize 15, out_qsize 0\n",
            "2021-07-16 05:48:02,107 : INFO : EPOCH 13 - PROGRESS: at 73.41% examples, 451866 words/s, in_qsize 15, out_qsize 0\n",
            "2021-07-16 05:48:03,139 : INFO : EPOCH 13 - PROGRESS: at 79.27% examples, 452891 words/s, in_qsize 15, out_qsize 0\n",
            "2021-07-16 05:48:04,172 : INFO : EPOCH 13 - PROGRESS: at 85.34% examples, 454895 words/s, in_qsize 15, out_qsize 0\n",
            "2021-07-16 05:48:05,198 : INFO : EPOCH 13 - PROGRESS: at 90.76% examples, 453582 words/s, in_qsize 16, out_qsize 0\n",
            "2021-07-16 05:48:06,226 : INFO : EPOCH 13 - PROGRESS: at 96.75% examples, 454927 words/s, in_qsize 15, out_qsize 0\n",
            "2021-07-16 05:48:06,587 : INFO : worker thread finished; awaiting finish of 7 more threads\n",
            "2021-07-16 05:48:06,612 : INFO : worker thread finished; awaiting finish of 6 more threads\n",
            "2021-07-16 05:48:06,634 : INFO : worker thread finished; awaiting finish of 5 more threads\n",
            "2021-07-16 05:48:06,667 : INFO : worker thread finished; awaiting finish of 4 more threads\n",
            "2021-07-16 05:48:06,676 : INFO : worker thread finished; awaiting finish of 3 more threads\n",
            "2021-07-16 05:48:06,681 : INFO : worker thread finished; awaiting finish of 2 more threads\n",
            "2021-07-16 05:48:06,691 : INFO : worker thread finished; awaiting finish of 1 more threads\n",
            "2021-07-16 05:48:06,702 : INFO : worker thread finished; awaiting finish of 0 more threads\n",
            "2021-07-16 05:48:06,705 : INFO : EPOCH - 13 : training on 9227204 raw words (8222957 effective words) took 18.0s, 457722 effective words/s\n",
            "2021-07-16 05:48:07,723 : INFO : EPOCH 14 - PROGRESS: at 5.21% examples, 425037 words/s, in_qsize 14, out_qsize 1\n",
            "2021-07-16 05:48:08,746 : INFO : EPOCH 14 - PROGRESS: at 10.53% examples, 425939 words/s, in_qsize 11, out_qsize 4\n",
            "2021-07-16 05:48:09,747 : INFO : EPOCH 14 - PROGRESS: at 16.27% examples, 440941 words/s, in_qsize 12, out_qsize 2\n",
            "2021-07-16 05:48:10,794 : INFO : EPOCH 14 - PROGRESS: at 21.90% examples, 441299 words/s, in_qsize 15, out_qsize 0\n",
            "2021-07-16 05:48:11,817 : INFO : EPOCH 14 - PROGRESS: at 27.75% examples, 447126 words/s, in_qsize 15, out_qsize 0\n",
            "2021-07-16 05:48:12,833 : INFO : EPOCH 14 - PROGRESS: at 33.38% examples, 448678 words/s, in_qsize 12, out_qsize 3\n",
            "2021-07-16 05:48:13,859 : INFO : EPOCH 14 - PROGRESS: at 39.00% examples, 449044 words/s, in_qsize 15, out_qsize 0\n",
            "2021-07-16 05:48:14,881 : INFO : EPOCH 14 - PROGRESS: at 44.62% examples, 449512 words/s, in_qsize 16, out_qsize 0\n",
            "2021-07-16 05:48:15,885 : INFO : EPOCH 14 - PROGRESS: at 50.35% examples, 451846 words/s, in_qsize 16, out_qsize 1\n",
            "2021-07-16 05:48:16,926 : INFO : EPOCH 14 - PROGRESS: at 56.29% examples, 453757 words/s, in_qsize 15, out_qsize 0\n",
            "2021-07-16 05:48:17,928 : INFO : EPOCH 14 - PROGRESS: at 62.14% examples, 456123 words/s, in_qsize 13, out_qsize 1\n",
            "2021-07-16 05:48:18,965 : INFO : EPOCH 14 - PROGRESS: at 67.56% examples, 453855 words/s, in_qsize 15, out_qsize 0\n",
            "2021-07-16 05:48:19,971 : INFO : EPOCH 14 - PROGRESS: at 73.52% examples, 456385 words/s, in_qsize 15, out_qsize 0\n",
            "2021-07-16 05:48:20,992 : INFO : EPOCH 14 - PROGRESS: at 78.95% examples, 454916 words/s, in_qsize 15, out_qsize 0\n",
            "2021-07-16 05:48:22,017 : INFO : EPOCH 14 - PROGRESS: at 84.80% examples, 455868 words/s, in_qsize 15, out_qsize 0\n",
            "2021-07-16 05:48:23,042 : INFO : EPOCH 14 - PROGRESS: at 90.33% examples, 455066 words/s, in_qsize 15, out_qsize 0\n",
            "2021-07-16 05:48:24,050 : INFO : EPOCH 14 - PROGRESS: at 96.31% examples, 456861 words/s, in_qsize 13, out_qsize 0\n",
            "2021-07-16 05:48:24,591 : INFO : worker thread finished; awaiting finish of 7 more threads\n",
            "2021-07-16 05:48:24,646 : INFO : worker thread finished; awaiting finish of 6 more threads\n",
            "2021-07-16 05:48:24,651 : INFO : worker thread finished; awaiting finish of 5 more threads\n",
            "2021-07-16 05:48:24,673 : INFO : worker thread finished; awaiting finish of 4 more threads\n",
            "2021-07-16 05:48:24,679 : INFO : worker thread finished; awaiting finish of 3 more threads\n",
            "2021-07-16 05:48:24,684 : INFO : worker thread finished; awaiting finish of 2 more threads\n",
            "2021-07-16 05:48:24,686 : INFO : worker thread finished; awaiting finish of 1 more threads\n",
            "2021-07-16 05:48:24,689 : INFO : worker thread finished; awaiting finish of 0 more threads\n",
            "2021-07-16 05:48:24,692 : INFO : EPOCH - 14 : training on 9227204 raw words (8222476 effective words) took 18.0s, 457451 effective words/s\n",
            "2021-07-16 05:48:25,739 : INFO : EPOCH 15 - PROGRESS: at 5.00% examples, 395469 words/s, in_qsize 16, out_qsize 1\n",
            "2021-07-16 05:48:26,745 : INFO : EPOCH 15 - PROGRESS: at 10.64% examples, 427688 words/s, in_qsize 15, out_qsize 0\n",
            "2021-07-16 05:48:27,807 : INFO : EPOCH 15 - PROGRESS: at 16.37% examples, 433398 words/s, in_qsize 11, out_qsize 5\n",
            "2021-07-16 05:48:28,882 : INFO : EPOCH 15 - PROGRESS: at 22.54% examples, 443447 words/s, in_qsize 16, out_qsize 0\n",
            "2021-07-16 05:48:29,893 : INFO : EPOCH 15 - PROGRESS: at 27.96% examples, 442944 words/s, in_qsize 15, out_qsize 0\n",
            "2021-07-16 05:48:30,914 : INFO : EPOCH 15 - PROGRESS: at 34.02% examples, 450508 words/s, in_qsize 15, out_qsize 0\n",
            "2021-07-16 05:48:31,944 : INFO : EPOCH 15 - PROGRESS: at 39.22% examples, 445474 words/s, in_qsize 15, out_qsize 0\n",
            "2021-07-16 05:48:32,986 : INFO : EPOCH 15 - PROGRESS: at 44.94% examples, 446418 words/s, in_qsize 15, out_qsize 0\n",
            "2021-07-16 05:48:34,000 : INFO : EPOCH 15 - PROGRESS: at 50.67% examples, 448547 words/s, in_qsize 15, out_qsize 0\n",
            "2021-07-16 05:48:35,047 : INFO : EPOCH 15 - PROGRESS: at 56.18% examples, 447148 words/s, in_qsize 16, out_qsize 0\n",
            "2021-07-16 05:48:36,049 : INFO : EPOCH 15 - PROGRESS: at 61.39% examples, 445314 words/s, in_qsize 16, out_qsize 3\n",
            "2021-07-16 05:48:37,101 : INFO : EPOCH 15 - PROGRESS: at 67.56% examples, 448456 words/s, in_qsize 15, out_qsize 0\n",
            "2021-07-16 05:48:38,137 : INFO : EPOCH 15 - PROGRESS: at 72.97% examples, 447046 words/s, in_qsize 16, out_qsize 1\n",
            "2021-07-16 05:48:39,187 : INFO : EPOCH 15 - PROGRESS: at 78.62% examples, 446596 words/s, in_qsize 15, out_qsize 0\n",
            "2021-07-16 05:48:40,197 : INFO : EPOCH 15 - PROGRESS: at 84.37% examples, 447964 words/s, in_qsize 15, out_qsize 0\n",
            "2021-07-16 05:48:41,200 : INFO : EPOCH 15 - PROGRESS: at 89.56% examples, 446648 words/s, in_qsize 15, out_qsize 2\n",
            "2021-07-16 05:48:42,227 : INFO : EPOCH 15 - PROGRESS: at 95.34% examples, 447398 words/s, in_qsize 15, out_qsize 0\n",
            "2021-07-16 05:48:42,859 : INFO : worker thread finished; awaiting finish of 7 more threads\n",
            "2021-07-16 05:48:42,882 : INFO : worker thread finished; awaiting finish of 6 more threads\n",
            "2021-07-16 05:48:42,923 : INFO : worker thread finished; awaiting finish of 5 more threads\n",
            "2021-07-16 05:48:42,930 : INFO : worker thread finished; awaiting finish of 4 more threads\n",
            "2021-07-16 05:48:42,936 : INFO : worker thread finished; awaiting finish of 3 more threads\n",
            "2021-07-16 05:48:42,937 : INFO : worker thread finished; awaiting finish of 2 more threads\n",
            "2021-07-16 05:48:42,938 : INFO : worker thread finished; awaiting finish of 1 more threads\n",
            "2021-07-16 05:48:42,945 : INFO : worker thread finished; awaiting finish of 0 more threads\n",
            "2021-07-16 05:48:42,946 : INFO : EPOCH - 15 : training on 9227204 raw words (8223670 effective words) took 18.2s, 450792 effective words/s\n",
            "2021-07-16 05:48:43,989 : INFO : EPOCH 16 - PROGRESS: at 5.00% examples, 402920 words/s, in_qsize 16, out_qsize 0\n",
            "2021-07-16 05:48:44,989 : INFO : EPOCH 16 - PROGRESS: at 10.53% examples, 428496 words/s, in_qsize 13, out_qsize 2\n",
            "2021-07-16 05:48:45,997 : INFO : EPOCH 16 - PROGRESS: at 16.27% examples, 441626 words/s, in_qsize 16, out_qsize 0\n",
            "2021-07-16 05:48:47,002 : INFO : EPOCH 16 - PROGRESS: at 21.90% examples, 446470 words/s, in_qsize 16, out_qsize 1\n",
            "2021-07-16 05:48:48,020 : INFO : EPOCH 16 - PROGRESS: at 27.31% examples, 444716 words/s, in_qsize 15, out_qsize 0\n",
            "2021-07-16 05:48:49,051 : INFO : EPOCH 16 - PROGRESS: at 32.52% examples, 439671 words/s, in_qsize 15, out_qsize 0\n",
            "2021-07-16 05:48:50,062 : INFO : EPOCH 16 - PROGRESS: at 38.14% examples, 442325 words/s, in_qsize 15, out_qsize 0\n",
            "2021-07-16 05:48:51,105 : INFO : EPOCH 16 - PROGRESS: at 43.86% examples, 443660 words/s, in_qsize 15, out_qsize 0\n",
            "2021-07-16 05:48:52,135 : INFO : EPOCH 16 - PROGRESS: at 49.16% examples, 441414 words/s, in_qsize 14, out_qsize 4\n",
            "2021-07-16 05:48:53,163 : INFO : EPOCH 16 - PROGRESS: at 55.00% examples, 444130 words/s, in_qsize 14, out_qsize 2\n",
            "2021-07-16 05:48:54,217 : INFO : EPOCH 16 - PROGRESS: at 60.96% examples, 446082 words/s, in_qsize 15, out_qsize 0\n",
            "2021-07-16 05:48:55,229 : INFO : EPOCH 16 - PROGRESS: at 66.58% examples, 447001 words/s, in_qsize 15, out_qsize 1\n",
            "2021-07-16 05:48:56,238 : INFO : EPOCH 16 - PROGRESS: at 71.89% examples, 445916 words/s, in_qsize 14, out_qsize 4\n",
            "2021-07-16 05:48:57,300 : INFO : EPOCH 16 - PROGRESS: at 77.85% examples, 447076 words/s, in_qsize 15, out_qsize 0\n",
            "2021-07-16 05:48:58,300 : INFO : EPOCH 16 - PROGRESS: at 83.83% examples, 449868 words/s, in_qsize 15, out_qsize 0\n",
            "2021-07-16 05:48:59,329 : INFO : EPOCH 16 - PROGRESS: at 89.23% examples, 448781 words/s, in_qsize 15, out_qsize 0\n",
            "2021-07-16 05:49:00,358 : INFO : EPOCH 16 - PROGRESS: at 94.58% examples, 447296 words/s, in_qsize 10, out_qsize 5\n",
            "2021-07-16 05:49:01,138 : INFO : worker thread finished; awaiting finish of 7 more threads\n",
            "2021-07-16 05:49:01,168 : INFO : worker thread finished; awaiting finish of 6 more threads\n",
            "2021-07-16 05:49:01,183 : INFO : worker thread finished; awaiting finish of 5 more threads\n",
            "2021-07-16 05:49:01,200 : INFO : worker thread finished; awaiting finish of 4 more threads\n",
            "2021-07-16 05:49:01,213 : INFO : worker thread finished; awaiting finish of 3 more threads\n",
            "2021-07-16 05:49:01,215 : INFO : worker thread finished; awaiting finish of 2 more threads\n",
            "2021-07-16 05:49:01,217 : INFO : worker thread finished; awaiting finish of 1 more threads\n",
            "2021-07-16 05:49:01,224 : INFO : worker thread finished; awaiting finish of 0 more threads\n",
            "2021-07-16 05:49:01,226 : INFO : EPOCH - 16 : training on 9227204 raw words (8223114 effective words) took 18.3s, 450484 effective words/s\n",
            "2021-07-16 05:49:02,267 : INFO : EPOCH 17 - PROGRESS: at 5.43% examples, 433294 words/s, in_qsize 16, out_qsize 0\n",
            "2021-07-16 05:49:03,287 : INFO : EPOCH 17 - PROGRESS: at 10.86% examples, 437947 words/s, in_qsize 15, out_qsize 2\n",
            "2021-07-16 05:49:04,297 : INFO : EPOCH 17 - PROGRESS: at 16.59% examples, 445620 words/s, in_qsize 15, out_qsize 0\n",
            "2021-07-16 05:49:05,306 : INFO : EPOCH 17 - PROGRESS: at 22.11% examples, 446762 words/s, in_qsize 15, out_qsize 0\n",
            "2021-07-16 05:49:06,370 : INFO : EPOCH 17 - PROGRESS: at 27.64% examples, 442745 words/s, in_qsize 10, out_qsize 5\n",
            "2021-07-16 05:49:07,389 : INFO : EPOCH 17 - PROGRESS: at 33.48% examples, 447584 words/s, in_qsize 14, out_qsize 1\n",
            "2021-07-16 05:49:08,405 : INFO : EPOCH 17 - PROGRESS: at 38.89% examples, 446301 words/s, in_qsize 15, out_qsize 4\n",
            "2021-07-16 05:49:09,423 : INFO : EPOCH 17 - PROGRESS: at 44.40% examples, 446243 words/s, in_qsize 14, out_qsize 4\n",
            "2021-07-16 05:49:10,440 : INFO : EPOCH 17 - PROGRESS: at 50.56% examples, 452162 words/s, in_qsize 16, out_qsize 0\n",
            "2021-07-16 05:49:11,498 : INFO : EPOCH 17 - PROGRESS: at 55.86% examples, 448101 words/s, in_qsize 14, out_qsize 2\n",
            "2021-07-16 05:49:12,565 : INFO : EPOCH 17 - PROGRESS: at 61.82% examples, 449180 words/s, in_qsize 15, out_qsize 0\n",
            "2021-07-16 05:49:13,566 : INFO : EPOCH 17 - PROGRESS: at 67.12% examples, 448083 words/s, in_qsize 14, out_qsize 0\n",
            "2021-07-16 05:49:14,575 : INFO : EPOCH 17 - PROGRESS: at 72.43% examples, 446886 words/s, in_qsize 15, out_qsize 0\n",
            "2021-07-16 05:49:15,580 : INFO : EPOCH 17 - PROGRESS: at 77.96% examples, 447249 words/s, in_qsize 15, out_qsize 0\n",
            "2021-07-16 05:49:16,582 : INFO : EPOCH 17 - PROGRESS: at 83.72% examples, 448792 words/s, in_qsize 15, out_qsize 0\n",
            "2021-07-16 05:49:17,594 : INFO : EPOCH 17 - PROGRESS: at 89.45% examples, 449880 words/s, in_qsize 14, out_qsize 1\n",
            "2021-07-16 05:49:18,602 : INFO : EPOCH 17 - PROGRESS: at 94.91% examples, 449399 words/s, in_qsize 15, out_qsize 0\n",
            "2021-07-16 05:49:19,406 : INFO : worker thread finished; awaiting finish of 7 more threads\n",
            "2021-07-16 05:49:19,407 : INFO : worker thread finished; awaiting finish of 6 more threads\n",
            "2021-07-16 05:49:19,419 : INFO : worker thread finished; awaiting finish of 5 more threads\n",
            "2021-07-16 05:49:19,440 : INFO : worker thread finished; awaiting finish of 4 more threads\n",
            "2021-07-16 05:49:19,445 : INFO : worker thread finished; awaiting finish of 3 more threads\n",
            "2021-07-16 05:49:19,469 : INFO : worker thread finished; awaiting finish of 2 more threads\n",
            "2021-07-16 05:49:19,486 : INFO : worker thread finished; awaiting finish of 1 more threads\n",
            "2021-07-16 05:49:19,487 : INFO : worker thread finished; awaiting finish of 0 more threads\n",
            "2021-07-16 05:49:19,488 : INFO : EPOCH - 17 : training on 9227204 raw words (8222599 effective words) took 18.2s, 450565 effective words/s\n",
            "2021-07-16 05:49:20,532 : INFO : EPOCH 18 - PROGRESS: at 4.89% examples, 391116 words/s, in_qsize 16, out_qsize 0\n",
            "2021-07-16 05:49:21,551 : INFO : EPOCH 18 - PROGRESS: at 10.53% examples, 423036 words/s, in_qsize 15, out_qsize 0\n",
            "2021-07-16 05:49:22,610 : INFO : EPOCH 18 - PROGRESS: at 15.95% examples, 421984 words/s, in_qsize 15, out_qsize 0\n",
            "2021-07-16 05:49:23,642 : INFO : EPOCH 18 - PROGRESS: at 21.24% examples, 422224 words/s, in_qsize 15, out_qsize 0\n",
            "2021-07-16 05:49:24,658 : INFO : EPOCH 18 - PROGRESS: at 26.88% examples, 428909 words/s, in_qsize 16, out_qsize 2\n",
            "2021-07-16 05:49:25,724 : INFO : EPOCH 18 - PROGRESS: at 32.84% examples, 434225 words/s, in_qsize 14, out_qsize 1\n",
            "2021-07-16 05:49:26,732 : INFO : EPOCH 18 - PROGRESS: at 38.46% examples, 437734 words/s, in_qsize 15, out_qsize 0\n",
            "2021-07-16 05:49:27,759 : INFO : EPOCH 18 - PROGRESS: at 44.29% examples, 441530 words/s, in_qsize 15, out_qsize 0\n",
            "2021-07-16 05:49:28,779 : INFO : EPOCH 18 - PROGRESS: at 49.81% examples, 441958 words/s, in_qsize 16, out_qsize 1\n",
            "2021-07-16 05:49:29,786 : INFO : EPOCH 18 - PROGRESS: at 55.53% examples, 444626 words/s, in_qsize 12, out_qsize 3\n",
            "2021-07-16 05:49:30,790 : INFO : EPOCH 18 - PROGRESS: at 61.61% examples, 449291 words/s, in_qsize 15, out_qsize 0\n",
            "2021-07-16 05:49:31,817 : INFO : EPOCH 18 - PROGRESS: at 67.02% examples, 447985 words/s, in_qsize 14, out_qsize 1\n",
            "2021-07-16 05:49:32,817 : INFO : EPOCH 18 - PROGRESS: at 72.75% examples, 449781 words/s, in_qsize 13, out_qsize 2\n",
            "2021-07-16 05:49:33,855 : INFO : EPOCH 18 - PROGRESS: at 78.84% examples, 452007 words/s, in_qsize 15, out_qsize 0\n",
            "2021-07-16 05:49:34,880 : INFO : EPOCH 18 - PROGRESS: at 84.70% examples, 453174 words/s, in_qsize 15, out_qsize 0\n",
            "2021-07-16 05:49:35,907 : INFO : EPOCH 18 - PROGRESS: at 90.33% examples, 453033 words/s, in_qsize 15, out_qsize 0\n",
            "2021-07-16 05:49:36,910 : INFO : EPOCH 18 - PROGRESS: at 96.10% examples, 454043 words/s, in_qsize 15, out_qsize 0\n",
            "2021-07-16 05:49:37,464 : INFO : worker thread finished; awaiting finish of 7 more threads\n",
            "2021-07-16 05:49:37,468 : INFO : worker thread finished; awaiting finish of 6 more threads\n",
            "2021-07-16 05:49:37,470 : INFO : worker thread finished; awaiting finish of 5 more threads\n",
            "2021-07-16 05:49:37,479 : INFO : worker thread finished; awaiting finish of 4 more threads\n",
            "2021-07-16 05:49:37,487 : INFO : worker thread finished; awaiting finish of 3 more threads\n",
            "2021-07-16 05:49:37,499 : INFO : worker thread finished; awaiting finish of 2 more threads\n",
            "2021-07-16 05:49:37,514 : INFO : worker thread finished; awaiting finish of 1 more threads\n",
            "2021-07-16 05:49:37,516 : INFO : worker thread finished; awaiting finish of 0 more threads\n",
            "2021-07-16 05:49:37,517 : INFO : EPOCH - 18 : training on 9227204 raw words (8222539 effective words) took 18.0s, 456562 effective words/s\n",
            "2021-07-16 05:49:38,533 : INFO : EPOCH 19 - PROGRESS: at 5.11% examples, 417778 words/s, in_qsize 15, out_qsize 0\n",
            "2021-07-16 05:49:39,566 : INFO : EPOCH 19 - PROGRESS: at 10.64% examples, 429028 words/s, in_qsize 15, out_qsize 0\n",
            "2021-07-16 05:49:40,595 : INFO : EPOCH 19 - PROGRESS: at 16.27% examples, 436072 words/s, in_qsize 15, out_qsize 0\n",
            "2021-07-16 05:49:41,685 : INFO : EPOCH 19 - PROGRESS: at 22.22% examples, 439649 words/s, in_qsize 15, out_qsize 0\n",
            "2021-07-16 05:49:42,720 : INFO : EPOCH 19 - PROGRESS: at 27.86% examples, 441318 words/s, in_qsize 16, out_qsize 2\n",
            "2021-07-16 05:49:43,801 : INFO : EPOCH 19 - PROGRESS: at 33.81% examples, 443337 words/s, in_qsize 15, out_qsize 2\n",
            "2021-07-16 05:49:44,814 : INFO : EPOCH 19 - PROGRESS: at 39.65% examples, 447692 words/s, in_qsize 15, out_qsize 0\n",
            "2021-07-16 05:49:45,906 : INFO : EPOCH 19 - PROGRESS: at 45.70% examples, 448912 words/s, in_qsize 14, out_qsize 1\n",
            "2021-07-16 05:49:46,923 : INFO : EPOCH 19 - PROGRESS: at 51.43% examples, 450573 words/s, in_qsize 15, out_qsize 0\n",
            "2021-07-16 05:49:47,931 : INFO : EPOCH 19 - PROGRESS: at 57.38% examples, 454035 words/s, in_qsize 15, out_qsize 0\n",
            "2021-07-16 05:49:48,954 : INFO : EPOCH 19 - PROGRESS: at 62.89% examples, 453152 words/s, in_qsize 14, out_qsize 5\n",
            "2021-07-16 05:49:49,992 : INFO : EPOCH 19 - PROGRESS: at 68.86% examples, 454699 words/s, in_qsize 15, out_qsize 2\n",
            "2021-07-16 05:49:50,995 : INFO : EPOCH 19 - PROGRESS: at 74.48% examples, 455240 words/s, in_qsize 16, out_qsize 0\n",
            "2021-07-16 05:49:52,006 : INFO : EPOCH 19 - PROGRESS: at 80.46% examples, 457262 words/s, in_qsize 15, out_qsize 0\n",
            "2021-07-16 05:49:53,018 : INFO : EPOCH 19 - PROGRESS: at 85.99% examples, 456742 words/s, in_qsize 15, out_qsize 0\n",
            "2021-07-16 05:49:54,035 : INFO : EPOCH 19 - PROGRESS: at 91.53% examples, 456081 words/s, in_qsize 15, out_qsize 0\n",
            "2021-07-16 05:49:55,078 : INFO : EPOCH 19 - PROGRESS: at 97.50% examples, 456873 words/s, in_qsize 15, out_qsize 0\n",
            "2021-07-16 05:49:55,352 : INFO : worker thread finished; awaiting finish of 7 more threads\n",
            "2021-07-16 05:49:55,354 : INFO : worker thread finished; awaiting finish of 6 more threads\n",
            "2021-07-16 05:49:55,376 : INFO : worker thread finished; awaiting finish of 5 more threads\n",
            "2021-07-16 05:49:55,380 : INFO : worker thread finished; awaiting finish of 4 more threads\n",
            "2021-07-16 05:49:55,420 : INFO : worker thread finished; awaiting finish of 3 more threads\n",
            "2021-07-16 05:49:55,435 : INFO : worker thread finished; awaiting finish of 2 more threads\n",
            "2021-07-16 05:49:55,445 : INFO : worker thread finished; awaiting finish of 1 more threads\n",
            "2021-07-16 05:49:55,451 : INFO : worker thread finished; awaiting finish of 0 more threads\n",
            "2021-07-16 05:49:55,452 : INFO : EPOCH - 19 : training on 9227204 raw words (8222580 effective words) took 17.9s, 458851 effective words/s\n",
            "2021-07-16 05:49:56,480 : INFO : EPOCH 20 - PROGRESS: at 5.21% examples, 421023 words/s, in_qsize 16, out_qsize 0\n",
            "2021-07-16 05:49:57,483 : INFO : EPOCH 20 - PROGRESS: at 10.86% examples, 441550 words/s, in_qsize 15, out_qsize 0\n",
            "2021-07-16 05:49:58,501 : INFO : EPOCH 20 - PROGRESS: at 16.48% examples, 445850 words/s, in_qsize 15, out_qsize 0\n",
            "2021-07-16 05:49:59,522 : INFO : EPOCH 20 - PROGRESS: at 22.22% examples, 449970 words/s, in_qsize 15, out_qsize 0\n",
            "2021-07-16 05:50:00,536 : INFO : EPOCH 20 - PROGRESS: at 27.75% examples, 449606 words/s, in_qsize 15, out_qsize 0\n",
            "2021-07-16 05:50:01,650 : INFO : EPOCH 20 - PROGRESS: at 33.81% examples, 449306 words/s, in_qsize 10, out_qsize 5\n",
            "2021-07-16 05:50:02,673 : INFO : EPOCH 20 - PROGRESS: at 39.54% examples, 451065 words/s, in_qsize 14, out_qsize 4\n",
            "2021-07-16 05:50:03,695 : INFO : EPOCH 20 - PROGRESS: at 45.48% examples, 454524 words/s, in_qsize 15, out_qsize 0\n",
            "2021-07-16 05:50:04,715 : INFO : EPOCH 20 - PROGRESS: at 51.10% examples, 454550 words/s, in_qsize 15, out_qsize 0\n",
            "2021-07-16 05:50:05,752 : INFO : EPOCH 20 - PROGRESS: at 56.62% examples, 452884 words/s, in_qsize 15, out_qsize 0\n",
            "2021-07-16 05:50:06,780 : INFO : EPOCH 20 - PROGRESS: at 62.14% examples, 451905 words/s, in_qsize 15, out_qsize 0\n",
            "2021-07-16 05:50:07,814 : INFO : EPOCH 20 - PROGRESS: at 67.88% examples, 452289 words/s, in_qsize 14, out_qsize 1\n",
            "2021-07-16 05:50:08,826 : INFO : EPOCH 20 - PROGRESS: at 73.51% examples, 452719 words/s, in_qsize 16, out_qsize 0\n",
            "2021-07-16 05:50:09,858 : INFO : EPOCH 20 - PROGRESS: at 78.84% examples, 450556 words/s, in_qsize 15, out_qsize 0\n",
            "2021-07-16 05:50:10,866 : INFO : EPOCH 20 - PROGRESS: at 84.58% examples, 451749 words/s, in_qsize 15, out_qsize 0\n",
            "2021-07-16 05:50:11,876 : INFO : EPOCH 20 - PROGRESS: at 90.43% examples, 453243 words/s, in_qsize 15, out_qsize 0\n",
            "2021-07-16 05:50:12,965 : INFO : EPOCH 20 - PROGRESS: at 96.31% examples, 452489 words/s, in_qsize 16, out_qsize 0\n",
            "2021-07-16 05:50:13,485 : INFO : worker thread finished; awaiting finish of 7 more threads\n",
            "2021-07-16 05:50:13,497 : INFO : worker thread finished; awaiting finish of 6 more threads\n",
            "2021-07-16 05:50:13,505 : INFO : worker thread finished; awaiting finish of 5 more threads\n",
            "2021-07-16 05:50:13,536 : INFO : worker thread finished; awaiting finish of 4 more threads\n",
            "2021-07-16 05:50:13,538 : INFO : worker thread finished; awaiting finish of 3 more threads\n",
            "2021-07-16 05:50:13,539 : INFO : worker thread finished; awaiting finish of 2 more threads\n",
            "2021-07-16 05:50:13,556 : INFO : worker thread finished; awaiting finish of 1 more threads\n",
            "2021-07-16 05:50:13,572 : INFO : worker thread finished; awaiting finish of 0 more threads\n",
            "2021-07-16 05:50:13,573 : INFO : EPOCH - 20 : training on 9227204 raw words (8222705 effective words) took 18.1s, 454091 effective words/s\n",
            "2021-07-16 05:50:14,621 : INFO : EPOCH 21 - PROGRESS: at 5.11% examples, 404340 words/s, in_qsize 13, out_qsize 2\n",
            "2021-07-16 05:50:15,747 : INFO : EPOCH 21 - PROGRESS: at 11.19% examples, 424831 words/s, in_qsize 10, out_qsize 5\n",
            "2021-07-16 05:50:16,752 : INFO : EPOCH 21 - PROGRESS: at 17.02% examples, 441861 words/s, in_qsize 15, out_qsize 0\n",
            "2021-07-16 05:50:17,772 : INFO : EPOCH 21 - PROGRESS: at 22.76% examples, 447063 words/s, in_qsize 15, out_qsize 2\n",
            "2021-07-16 05:50:18,788 : INFO : EPOCH 21 - PROGRESS: at 28.83% examples, 455680 words/s, in_qsize 15, out_qsize 0\n",
            "2021-07-16 05:50:19,812 : INFO : EPOCH 21 - PROGRESS: at 34.13% examples, 450826 words/s, in_qsize 14, out_qsize 1\n",
            "2021-07-16 05:50:20,850 : INFO : EPOCH 21 - PROGRESS: at 39.65% examples, 448968 words/s, in_qsize 15, out_qsize 0\n",
            "2021-07-16 05:50:21,920 : INFO : EPOCH 21 - PROGRESS: at 45.37% examples, 447970 words/s, in_qsize 15, out_qsize 0\n",
            "2021-07-16 05:50:22,931 : INFO : EPOCH 21 - PROGRESS: at 50.88% examples, 448189 words/s, in_qsize 16, out_qsize 1\n",
            "2021-07-16 05:50:23,976 : INFO : EPOCH 21 - PROGRESS: at 57.16% examples, 452875 words/s, in_qsize 15, out_qsize 0\n",
            "2021-07-16 05:50:25,010 : INFO : EPOCH 21 - PROGRESS: at 62.36% examples, 449316 words/s, in_qsize 15, out_qsize 0\n",
            "2021-07-16 05:50:26,073 : INFO : EPOCH 21 - PROGRESS: at 67.88% examples, 447450 words/s, in_qsize 14, out_qsize 4\n",
            "2021-07-16 05:50:27,074 : INFO : EPOCH 21 - PROGRESS: at 73.51% examples, 448599 words/s, in_qsize 14, out_qsize 1\n",
            "2021-07-16 05:50:28,081 : INFO : EPOCH 21 - PROGRESS: at 79.16% examples, 449377 words/s, in_qsize 14, out_qsize 1\n",
            "2021-07-16 05:50:29,095 : INFO : EPOCH 21 - PROGRESS: at 84.59% examples, 448729 words/s, in_qsize 15, out_qsize 0\n",
            "2021-07-16 05:50:30,142 : INFO : EPOCH 21 - PROGRESS: at 90.32% examples, 448841 words/s, in_qsize 15, out_qsize 0\n",
            "2021-07-16 05:50:31,184 : INFO : EPOCH 21 - PROGRESS: at 95.88% examples, 448039 words/s, in_qsize 15, out_qsize 1\n",
            "2021-07-16 05:50:31,727 : INFO : worker thread finished; awaiting finish of 7 more threads\n",
            "2021-07-16 05:50:31,741 : INFO : worker thread finished; awaiting finish of 6 more threads\n",
            "2021-07-16 05:50:31,772 : INFO : worker thread finished; awaiting finish of 5 more threads\n",
            "2021-07-16 05:50:31,790 : INFO : worker thread finished; awaiting finish of 4 more threads\n",
            "2021-07-16 05:50:31,793 : INFO : worker thread finished; awaiting finish of 3 more threads\n",
            "2021-07-16 05:50:31,798 : INFO : worker thread finished; awaiting finish of 2 more threads\n",
            "2021-07-16 05:50:31,807 : INFO : worker thread finished; awaiting finish of 1 more threads\n",
            "2021-07-16 05:50:31,812 : INFO : worker thread finished; awaiting finish of 0 more threads\n",
            "2021-07-16 05:50:31,813 : INFO : EPOCH - 21 : training on 9227204 raw words (8224212 effective words) took 18.2s, 451204 effective words/s\n",
            "2021-07-16 05:50:32,854 : INFO : EPOCH 22 - PROGRESS: at 5.00% examples, 399751 words/s, in_qsize 14, out_qsize 1\n",
            "2021-07-16 05:50:33,900 : INFO : EPOCH 22 - PROGRESS: at 10.75% examples, 426066 words/s, in_qsize 14, out_qsize 1\n",
            "2021-07-16 05:50:34,935 : INFO : EPOCH 22 - PROGRESS: at 16.92% examples, 447406 words/s, in_qsize 15, out_qsize 0\n",
            "2021-07-16 05:50:35,958 : INFO : EPOCH 22 - PROGRESS: at 22.44% examples, 446621 words/s, in_qsize 15, out_qsize 0\n",
            "2021-07-16 05:50:36,958 : INFO : EPOCH 22 - PROGRESS: at 28.07% examples, 449848 words/s, in_qsize 15, out_qsize 0\n",
            "2021-07-16 05:50:38,004 : INFO : EPOCH 22 - PROGRESS: at 33.70% examples, 448683 words/s, in_qsize 16, out_qsize 1\n",
            "2021-07-16 05:50:39,006 : INFO : EPOCH 22 - PROGRESS: at 39.54% examples, 453082 words/s, in_qsize 15, out_qsize 0\n",
            "2021-07-16 05:50:40,016 : INFO : EPOCH 22 - PROGRESS: at 45.05% examples, 452689 words/s, in_qsize 15, out_qsize 0\n",
            "2021-07-16 05:50:41,041 : INFO : EPOCH 22 - PROGRESS: at 50.67% examples, 452605 words/s, in_qsize 15, out_qsize 0\n",
            "2021-07-16 05:50:42,042 : INFO : EPOCH 22 - PROGRESS: at 56.51% examples, 455397 words/s, in_qsize 16, out_qsize 0\n",
            "2021-07-16 05:50:43,081 : INFO : EPOCH 22 - PROGRESS: at 62.14% examples, 454485 words/s, in_qsize 15, out_qsize 0\n",
            "2021-07-16 05:50:44,094 : INFO : EPOCH 22 - PROGRESS: at 67.66% examples, 453960 words/s, in_qsize 14, out_qsize 3\n",
            "2021-07-16 05:50:45,131 : INFO : EPOCH 22 - PROGRESS: at 73.52% examples, 454738 words/s, in_qsize 15, out_qsize 0\n",
            "2021-07-16 05:50:46,140 : INFO : EPOCH 22 - PROGRESS: at 79.05% examples, 454425 words/s, in_qsize 13, out_qsize 2\n",
            "2021-07-16 05:50:47,235 : INFO : EPOCH 22 - PROGRESS: at 85.23% examples, 455068 words/s, in_qsize 15, out_qsize 0\n",
            "2021-07-16 05:50:48,242 : INFO : EPOCH 22 - PROGRESS: at 90.98% examples, 455901 words/s, in_qsize 16, out_qsize 2\n",
            "2021-07-16 05:50:49,258 : INFO : EPOCH 22 - PROGRESS: at 96.53% examples, 455370 words/s, in_qsize 15, out_qsize 0\n",
            "2021-07-16 05:50:49,707 : INFO : worker thread finished; awaiting finish of 7 more threads\n",
            "2021-07-16 05:50:49,709 : INFO : worker thread finished; awaiting finish of 6 more threads\n",
            "2021-07-16 05:50:49,766 : INFO : worker thread finished; awaiting finish of 5 more threads\n",
            "2021-07-16 05:50:49,780 : INFO : worker thread finished; awaiting finish of 4 more threads\n",
            "2021-07-16 05:50:49,782 : INFO : worker thread finished; awaiting finish of 3 more threads\n",
            "2021-07-16 05:50:49,786 : INFO : worker thread finished; awaiting finish of 2 more threads\n",
            "2021-07-16 05:50:49,790 : INFO : worker thread finished; awaiting finish of 1 more threads\n",
            "2021-07-16 05:50:49,805 : INFO : worker thread finished; awaiting finish of 0 more threads\n",
            "2021-07-16 05:50:49,806 : INFO : EPOCH - 22 : training on 9227204 raw words (8222690 effective words) took 18.0s, 457411 effective words/s\n",
            "2021-07-16 05:50:50,864 : INFO : EPOCH 23 - PROGRESS: at 5.00% examples, 391572 words/s, in_qsize 15, out_qsize 0\n",
            "2021-07-16 05:50:51,915 : INFO : EPOCH 23 - PROGRESS: at 10.64% examples, 416562 words/s, in_qsize 14, out_qsize 1\n",
            "2021-07-16 05:50:52,945 : INFO : EPOCH 23 - PROGRESS: at 16.70% examples, 438702 words/s, in_qsize 15, out_qsize 0\n",
            "2021-07-16 05:50:53,950 : INFO : EPOCH 23 - PROGRESS: at 22.22% examples, 442014 words/s, in_qsize 15, out_qsize 0\n",
            "2021-07-16 05:50:54,963 : INFO : EPOCH 23 - PROGRESS: at 27.64% examples, 441599 words/s, in_qsize 15, out_qsize 0\n",
            "2021-07-16 05:50:56,041 : INFO : EPOCH 23 - PROGRESS: at 33.38% examples, 440955 words/s, in_qsize 15, out_qsize 0\n",
            "2021-07-16 05:50:57,060 : INFO : EPOCH 23 - PROGRESS: at 39.22% examples, 445355 words/s, in_qsize 15, out_qsize 0\n",
            "2021-07-16 05:50:58,091 : INFO : EPOCH 23 - PROGRESS: at 44.83% examples, 445869 words/s, in_qsize 16, out_qsize 0\n",
            "2021-07-16 05:50:59,094 : INFO : EPOCH 23 - PROGRESS: at 50.56% examples, 448607 words/s, in_qsize 15, out_qsize 0\n",
            "2021-07-16 05:51:00,152 : INFO : EPOCH 23 - PROGRESS: at 55.86% examples, 444900 words/s, in_qsize 15, out_qsize 0\n",
            "2021-07-16 05:51:01,178 : INFO : EPOCH 23 - PROGRESS: at 61.61% examples, 447215 words/s, in_qsize 14, out_qsize 1\n",
            "2021-07-16 05:51:02,166 : INFO : EPOCH 23 - PROGRESS: at 66.69% examples, 444448 words/s, in_qsize 16, out_qsize 1\n",
            "2021-07-16 05:51:03,190 : INFO : EPOCH 23 - PROGRESS: at 71.99% examples, 443073 words/s, in_qsize 16, out_qsize 0\n",
            "2021-07-16 05:51:04,254 : INFO : EPOCH 23 - PROGRESS: at 77.31% examples, 440642 words/s, in_qsize 16, out_qsize 0\n",
            "2021-07-16 05:51:05,264 : INFO : EPOCH 23 - PROGRESS: at 82.53% examples, 439506 words/s, in_qsize 15, out_qsize 0\n",
            "2021-07-16 05:51:06,270 : INFO : EPOCH 23 - PROGRESS: at 88.37% examples, 441870 words/s, in_qsize 15, out_qsize 0\n",
            "2021-07-16 05:51:07,285 : INFO : EPOCH 23 - PROGRESS: at 93.81% examples, 441673 words/s, in_qsize 15, out_qsize 0\n",
            "2021-07-16 05:51:08,285 : INFO : EPOCH 23 - PROGRESS: at 99.12% examples, 441372 words/s, in_qsize 8, out_qsize 1\n",
            "2021-07-16 05:51:08,288 : INFO : worker thread finished; awaiting finish of 7 more threads\n",
            "2021-07-16 05:51:08,299 : INFO : worker thread finished; awaiting finish of 6 more threads\n",
            "2021-07-16 05:51:08,317 : INFO : worker thread finished; awaiting finish of 5 more threads\n",
            "2021-07-16 05:51:08,323 : INFO : worker thread finished; awaiting finish of 4 more threads\n",
            "2021-07-16 05:51:08,333 : INFO : worker thread finished; awaiting finish of 3 more threads\n",
            "2021-07-16 05:51:08,342 : INFO : worker thread finished; awaiting finish of 2 more threads\n",
            "2021-07-16 05:51:08,350 : INFO : worker thread finished; awaiting finish of 1 more threads\n",
            "2021-07-16 05:51:08,361 : INFO : worker thread finished; awaiting finish of 0 more threads\n",
            "2021-07-16 05:51:08,363 : INFO : EPOCH - 23 : training on 9227204 raw words (8222903 effective words) took 18.5s, 443428 effective words/s\n",
            "2021-07-16 05:51:09,383 : INFO : EPOCH 24 - PROGRESS: at 5.10% examples, 414831 words/s, in_qsize 15, out_qsize 1\n",
            "2021-07-16 05:51:10,409 : INFO : EPOCH 24 - PROGRESS: at 10.64% examples, 429142 words/s, in_qsize 15, out_qsize 0\n",
            "2021-07-16 05:51:11,441 : INFO : EPOCH 24 - PROGRESS: at 16.27% examples, 435552 words/s, in_qsize 15, out_qsize 0\n",
            "2021-07-16 05:51:12,474 : INFO : EPOCH 24 - PROGRESS: at 21.90% examples, 438873 words/s, in_qsize 15, out_qsize 0\n",
            "2021-07-16 05:51:13,487 : INFO : EPOCH 24 - PROGRESS: at 27.32% examples, 439010 words/s, in_qsize 15, out_qsize 0\n",
            "2021-07-16 05:51:14,495 : INFO : EPOCH 24 - PROGRESS: at 32.95% examples, 442436 words/s, in_qsize 15, out_qsize 0\n",
            "2021-07-16 05:51:15,583 : INFO : EPOCH 24 - PROGRESS: at 38.57% examples, 440248 words/s, in_qsize 14, out_qsize 3\n",
            "2021-07-16 05:51:16,643 : INFO : EPOCH 24 - PROGRESS: at 44.29% examples, 440569 words/s, in_qsize 15, out_qsize 0\n",
            "2021-07-16 05:51:17,727 : INFO : EPOCH 24 - PROGRESS: at 49.92% examples, 439096 words/s, in_qsize 14, out_qsize 5\n",
            "2021-07-16 05:51:18,760 : INFO : EPOCH 24 - PROGRESS: at 55.75% examples, 441759 words/s, in_qsize 15, out_qsize 0\n",
            "2021-07-16 05:51:19,764 : INFO : EPOCH 24 - PROGRESS: at 60.96% examples, 440347 words/s, in_qsize 15, out_qsize 0\n",
            "2021-07-16 05:51:20,791 : INFO : EPOCH 24 - PROGRESS: at 66.91% examples, 443395 words/s, in_qsize 15, out_qsize 0\n",
            "2021-07-16 05:51:21,794 : INFO : EPOCH 24 - PROGRESS: at 71.88% examples, 440784 words/s, in_qsize 16, out_qsize 2\n",
            "2021-07-16 05:51:22,803 : INFO : EPOCH 24 - PROGRESS: at 77.64% examples, 442693 words/s, in_qsize 15, out_qsize 1\n",
            "2021-07-16 05:51:23,850 : INFO : EPOCH 24 - PROGRESS: at 83.72% examples, 444974 words/s, in_qsize 14, out_qsize 1\n",
            "2021-07-16 05:51:24,955 : INFO : EPOCH 24 - PROGRESS: at 89.67% examples, 444847 words/s, in_qsize 15, out_qsize 0\n",
            "2021-07-16 05:51:25,975 : INFO : EPOCH 24 - PROGRESS: at 95.01% examples, 443835 words/s, in_qsize 15, out_qsize 0\n",
            "2021-07-16 05:51:26,745 : INFO : worker thread finished; awaiting finish of 7 more threads\n",
            "2021-07-16 05:51:26,789 : INFO : worker thread finished; awaiting finish of 6 more threads\n",
            "2021-07-16 05:51:26,817 : INFO : worker thread finished; awaiting finish of 5 more threads\n",
            "2021-07-16 05:51:26,833 : INFO : worker thread finished; awaiting finish of 4 more threads\n",
            "2021-07-16 05:51:26,840 : INFO : worker thread finished; awaiting finish of 3 more threads\n",
            "2021-07-16 05:51:26,841 : INFO : worker thread finished; awaiting finish of 2 more threads\n",
            "2021-07-16 05:51:26,847 : INFO : worker thread finished; awaiting finish of 1 more threads\n",
            "2021-07-16 05:51:26,854 : INFO : worker thread finished; awaiting finish of 0 more threads\n",
            "2021-07-16 05:51:26,856 : INFO : EPOCH - 24 : training on 9227204 raw words (8222796 effective words) took 18.5s, 444915 effective words/s\n",
            "2021-07-16 05:51:27,878 : INFO : EPOCH 25 - PROGRESS: at 4.45% examples, 361465 words/s, in_qsize 15, out_qsize 0\n",
            "2021-07-16 05:51:28,884 : INFO : EPOCH 25 - PROGRESS: at 9.99% examples, 406676 words/s, in_qsize 15, out_qsize 0\n",
            "2021-07-16 05:51:29,890 : INFO : EPOCH 25 - PROGRESS: at 15.08% examples, 409721 words/s, in_qsize 15, out_qsize 0\n",
            "2021-07-16 05:51:30,943 : INFO : EPOCH 25 - PROGRESS: at 20.27% examples, 409561 words/s, in_qsize 15, out_qsize 1\n",
            "2021-07-16 05:51:31,938 : INFO : EPOCH 25 - PROGRESS: at 25.80% examples, 418257 words/s, in_qsize 13, out_qsize 1\n",
            "2021-07-16 05:51:33,003 : INFO : EPOCH 25 - PROGRESS: at 30.78% examples, 412441 words/s, in_qsize 15, out_qsize 4\n",
            "2021-07-16 05:51:34,126 : INFO : EPOCH 25 - PROGRESS: at 37.16% examples, 421030 words/s, in_qsize 15, out_qsize 0\n",
            "2021-07-16 05:51:35,130 : INFO : EPOCH 25 - PROGRESS: at 42.35% examples, 421639 words/s, in_qsize 13, out_qsize 3\n",
            "2021-07-16 05:51:36,145 : INFO : EPOCH 25 - PROGRESS: at 48.19% examples, 427361 words/s, in_qsize 16, out_qsize 2\n",
            "2021-07-16 05:51:37,146 : INFO : EPOCH 25 - PROGRESS: at 53.70% examples, 429991 words/s, in_qsize 15, out_qsize 1\n",
            "2021-07-16 05:51:38,149 : INFO : EPOCH 25 - PROGRESS: at 59.34% examples, 432836 words/s, in_qsize 15, out_qsize 0\n",
            "2021-07-16 05:51:39,164 : INFO : EPOCH 25 - PROGRESS: at 65.17% examples, 436221 words/s, in_qsize 15, out_qsize 0\n",
            "2021-07-16 05:51:40,226 : INFO : EPOCH 25 - PROGRESS: at 70.80% examples, 436604 words/s, in_qsize 15, out_qsize 3\n",
            "2021-07-16 05:51:41,262 : INFO : EPOCH 25 - PROGRESS: at 76.77% examples, 438868 words/s, in_qsize 15, out_qsize 0\n",
            "2021-07-16 05:51:42,282 : INFO : EPOCH 25 - PROGRESS: at 82.53% examples, 440431 words/s, in_qsize 16, out_qsize 2\n",
            "2021-07-16 05:51:43,341 : INFO : EPOCH 25 - PROGRESS: at 88.16% examples, 440259 words/s, in_qsize 15, out_qsize 0\n",
            "2021-07-16 05:51:44,353 : INFO : EPOCH 25 - PROGRESS: at 94.14% examples, 442749 words/s, in_qsize 15, out_qsize 0\n",
            "2021-07-16 05:51:45,254 : INFO : worker thread finished; awaiting finish of 7 more threads\n",
            "2021-07-16 05:51:45,262 : INFO : worker thread finished; awaiting finish of 6 more threads\n",
            "2021-07-16 05:51:45,266 : INFO : worker thread finished; awaiting finish of 5 more threads\n",
            "2021-07-16 05:51:45,277 : INFO : worker thread finished; awaiting finish of 4 more threads\n",
            "2021-07-16 05:51:45,311 : INFO : worker thread finished; awaiting finish of 3 more threads\n",
            "2021-07-16 05:51:45,323 : INFO : worker thread finished; awaiting finish of 2 more threads\n",
            "2021-07-16 05:51:45,331 : INFO : worker thread finished; awaiting finish of 1 more threads\n",
            "2021-07-16 05:51:45,332 : INFO : worker thread finished; awaiting finish of 0 more threads\n",
            "2021-07-16 05:51:45,333 : INFO : EPOCH - 25 : training on 9227204 raw words (8223702 effective words) took 18.5s, 445378 effective words/s\n",
            "2021-07-16 05:51:46,379 : INFO : EPOCH 26 - PROGRESS: at 5.11% examples, 405794 words/s, in_qsize 15, out_qsize 0\n",
            "2021-07-16 05:51:47,422 : INFO : EPOCH 26 - PROGRESS: at 10.53% examples, 416783 words/s, in_qsize 16, out_qsize 1\n",
            "2021-07-16 05:51:48,462 : INFO : EPOCH 26 - PROGRESS: at 16.37% examples, 431872 words/s, in_qsize 13, out_qsize 2\n",
            "2021-07-16 05:51:49,480 : INFO : EPOCH 26 - PROGRESS: at 22.11% examples, 439756 words/s, in_qsize 15, out_qsize 3\n",
            "2021-07-16 05:51:50,501 : INFO : EPOCH 26 - PROGRESS: at 27.64% examples, 440728 words/s, in_qsize 16, out_qsize 0\n",
            "2021-07-16 05:51:51,511 : INFO : EPOCH 26 - PROGRESS: at 33.27% examples, 443710 words/s, in_qsize 16, out_qsize 0\n",
            "2021-07-16 05:51:52,519 : INFO : EPOCH 26 - PROGRESS: at 38.89% examples, 445928 words/s, in_qsize 16, out_qsize 1\n",
            "2021-07-16 05:51:53,536 : INFO : EPOCH 26 - PROGRESS: at 44.73% examples, 449284 words/s, in_qsize 16, out_qsize 0\n",
            "2021-07-16 05:51:54,608 : INFO : EPOCH 26 - PROGRESS: at 50.24% examples, 446358 words/s, in_qsize 16, out_qsize 0\n",
            "2021-07-16 05:51:55,661 : INFO : EPOCH 26 - PROGRESS: at 56.40% examples, 450068 words/s, in_qsize 15, out_qsize 0\n",
            "2021-07-16 05:51:56,662 : INFO : EPOCH 26 - PROGRESS: at 62.25% examples, 452788 words/s, in_qsize 15, out_qsize 0\n",
            "2021-07-16 05:51:57,691 : INFO : EPOCH 26 - PROGRESS: at 67.88% examples, 452539 words/s, in_qsize 15, out_qsize 0\n",
            "2021-07-16 05:51:58,710 : INFO : EPOCH 26 - PROGRESS: at 73.41% examples, 452023 words/s, in_qsize 10, out_qsize 5\n",
            "2021-07-16 05:51:59,713 : INFO : EPOCH 26 - PROGRESS: at 79.16% examples, 453332 words/s, in_qsize 15, out_qsize 3\n",
            "2021-07-16 05:52:00,805 : INFO : EPOCH 26 - PROGRESS: at 84.91% examples, 451820 words/s, in_qsize 14, out_qsize 1\n",
            "2021-07-16 05:52:01,831 : INFO : EPOCH 26 - PROGRESS: at 90.00% examples, 449073 words/s, in_qsize 14, out_qsize 1\n",
            "2021-07-16 05:52:02,846 : INFO : EPOCH 26 - PROGRESS: at 95.66% examples, 449477 words/s, in_qsize 15, out_qsize 0\n",
            "2021-07-16 05:52:03,507 : INFO : worker thread finished; awaiting finish of 7 more threads\n",
            "2021-07-16 05:52:03,516 : INFO : worker thread finished; awaiting finish of 6 more threads\n",
            "2021-07-16 05:52:03,532 : INFO : worker thread finished; awaiting finish of 5 more threads\n",
            "2021-07-16 05:52:03,536 : INFO : worker thread finished; awaiting finish of 4 more threads\n",
            "2021-07-16 05:52:03,556 : INFO : worker thread finished; awaiting finish of 3 more threads\n",
            "2021-07-16 05:52:03,579 : INFO : worker thread finished; awaiting finish of 2 more threads\n",
            "2021-07-16 05:52:03,590 : INFO : worker thread finished; awaiting finish of 1 more threads\n",
            "2021-07-16 05:52:03,594 : INFO : worker thread finished; awaiting finish of 0 more threads\n",
            "2021-07-16 05:52:03,597 : INFO : EPOCH - 26 : training on 9227204 raw words (8222118 effective words) took 18.2s, 450564 effective words/s\n",
            "2021-07-16 05:52:04,616 : INFO : EPOCH 27 - PROGRESS: at 5.11% examples, 415482 words/s, in_qsize 15, out_qsize 0\n",
            "2021-07-16 05:52:05,628 : INFO : EPOCH 27 - PROGRESS: at 10.31% examples, 419025 words/s, in_qsize 15, out_qsize 0\n",
            "2021-07-16 05:52:06,667 : INFO : EPOCH 27 - PROGRESS: at 16.16% examples, 434039 words/s, in_qsize 15, out_qsize 0\n",
            "2021-07-16 05:52:07,689 : INFO : EPOCH 27 - PROGRESS: at 21.79% examples, 438845 words/s, in_qsize 15, out_qsize 0\n",
            "2021-07-16 05:52:08,694 : INFO : EPOCH 27 - PROGRESS: at 27.32% examples, 441456 words/s, in_qsize 16, out_qsize 1\n",
            "2021-07-16 05:52:09,757 : INFO : EPOCH 27 - PROGRESS: at 33.48% examples, 447635 words/s, in_qsize 15, out_qsize 0\n",
            "2021-07-16 05:52:10,786 : INFO : EPOCH 27 - PROGRESS: at 39.00% examples, 446827 words/s, in_qsize 15, out_qsize 0\n",
            "2021-07-16 05:52:11,806 : INFO : EPOCH 27 - PROGRESS: at 44.83% examples, 449849 words/s, in_qsize 14, out_qsize 1\n",
            "2021-07-16 05:52:12,811 : INFO : EPOCH 27 - PROGRESS: at 50.35% examples, 450079 words/s, in_qsize 15, out_qsize 0\n",
            "2021-07-16 05:52:13,843 : INFO : EPOCH 27 - PROGRESS: at 56.08% examples, 450924 words/s, in_qsize 14, out_qsize 1\n",
            "2021-07-16 05:52:14,871 : INFO : EPOCH 27 - PROGRESS: at 62.14% examples, 454046 words/s, in_qsize 15, out_qsize 0\n",
            "2021-07-16 05:52:15,873 : INFO : EPOCH 27 - PROGRESS: at 67.45% examples, 452500 words/s, in_qsize 16, out_qsize 1\n",
            "2021-07-16 05:52:16,920 : INFO : EPOCH 27 - PROGRESS: at 73.41% examples, 453726 words/s, in_qsize 15, out_qsize 0\n",
            "2021-07-16 05:52:17,937 : INFO : EPOCH 27 - PROGRESS: at 79.38% examples, 455714 words/s, in_qsize 15, out_qsize 0\n",
            "2021-07-16 05:52:18,949 : INFO : EPOCH 27 - PROGRESS: at 85.02% examples, 455876 words/s, in_qsize 15, out_qsize 0\n",
            "2021-07-16 05:52:19,963 : INFO : EPOCH 27 - PROGRESS: at 90.65% examples, 455902 words/s, in_qsize 14, out_qsize 1\n",
            "2021-07-16 05:52:20,996 : INFO : EPOCH 27 - PROGRESS: at 96.75% examples, 457507 words/s, in_qsize 14, out_qsize 1\n",
            "2021-07-16 05:52:21,432 : INFO : worker thread finished; awaiting finish of 7 more threads\n",
            "2021-07-16 05:52:21,465 : INFO : worker thread finished; awaiting finish of 6 more threads\n",
            "2021-07-16 05:52:21,467 : INFO : worker thread finished; awaiting finish of 5 more threads\n",
            "2021-07-16 05:52:21,474 : INFO : worker thread finished; awaiting finish of 4 more threads\n",
            "2021-07-16 05:52:21,476 : INFO : worker thread finished; awaiting finish of 3 more threads\n",
            "2021-07-16 05:52:21,479 : INFO : worker thread finished; awaiting finish of 2 more threads\n",
            "2021-07-16 05:52:21,493 : INFO : worker thread finished; awaiting finish of 1 more threads\n",
            "2021-07-16 05:52:21,502 : INFO : worker thread finished; awaiting finish of 0 more threads\n",
            "2021-07-16 05:52:21,503 : INFO : EPOCH - 27 : training on 9227204 raw words (8223039 effective words) took 17.9s, 459530 effective words/s\n",
            "2021-07-16 05:52:22,541 : INFO : EPOCH 28 - PROGRESS: at 5.54% examples, 442865 words/s, in_qsize 16, out_qsize 0\n",
            "2021-07-16 05:52:23,568 : INFO : EPOCH 28 - PROGRESS: at 10.97% examples, 438433 words/s, in_qsize 15, out_qsize 1\n",
            "2021-07-16 05:52:24,583 : INFO : EPOCH 28 - PROGRESS: at 16.92% examples, 452923 words/s, in_qsize 15, out_qsize 0\n",
            "2021-07-16 05:52:25,588 : INFO : EPOCH 28 - PROGRESS: at 22.11% examples, 446285 words/s, in_qsize 15, out_qsize 0\n",
            "2021-07-16 05:52:26,642 : INFO : EPOCH 28 - PROGRESS: at 27.32% examples, 437941 words/s, in_qsize 15, out_qsize 0\n",
            "2021-07-16 05:52:27,670 : INFO : EPOCH 28 - PROGRESS: at 32.62% examples, 435731 words/s, in_qsize 10, out_qsize 5\n",
            "2021-07-16 05:52:28,691 : INFO : EPOCH 28 - PROGRESS: at 38.68% examples, 443277 words/s, in_qsize 15, out_qsize 0\n",
            "2021-07-16 05:52:29,701 : INFO : EPOCH 28 - PROGRESS: at 43.43% examples, 436405 words/s, in_qsize 16, out_qsize 5\n",
            "2021-07-16 05:52:30,741 : INFO : EPOCH 28 - PROGRESS: at 48.73% examples, 434557 words/s, in_qsize 16, out_qsize 2\n",
            "2021-07-16 05:52:31,848 : INFO : EPOCH 28 - PROGRESS: at 54.56% examples, 434571 words/s, in_qsize 15, out_qsize 0\n",
            "2021-07-16 05:52:32,871 : INFO : EPOCH 28 - PROGRESS: at 59.66% examples, 432296 words/s, in_qsize 15, out_qsize 0\n",
            "2021-07-16 05:52:33,888 : INFO : EPOCH 28 - PROGRESS: at 65.72% examples, 437075 words/s, in_qsize 15, out_qsize 0\n",
            "2021-07-16 05:52:34,943 : INFO : EPOCH 28 - PROGRESS: at 70.91% examples, 435118 words/s, in_qsize 15, out_qsize 1\n",
            "2021-07-16 05:52:35,929 : INFO : EPOCH 28 - PROGRESS: at 76.33% examples, 435723 words/s, in_qsize 15, out_qsize 0\n",
            "2021-07-16 05:52:36,952 : INFO : EPOCH 28 - PROGRESS: at 82.32% examples, 438605 words/s, in_qsize 15, out_qsize 1\n",
            "2021-07-16 05:52:37,988 : INFO : EPOCH 28 - PROGRESS: at 87.18% examples, 435339 words/s, in_qsize 15, out_qsize 0\n",
            "2021-07-16 05:52:38,999 : INFO : EPOCH 28 - PROGRESS: at 93.05% examples, 437667 words/s, in_qsize 16, out_qsize 0\n",
            "2021-07-16 05:52:40,079 : INFO : EPOCH 28 - PROGRESS: at 98.79% examples, 437618 words/s, in_qsize 11, out_qsize 1\n",
            "2021-07-16 05:52:40,156 : INFO : worker thread finished; awaiting finish of 7 more threads\n",
            "2021-07-16 05:52:40,162 : INFO : worker thread finished; awaiting finish of 6 more threads\n",
            "2021-07-16 05:52:40,165 : INFO : worker thread finished; awaiting finish of 5 more threads\n",
            "2021-07-16 05:52:40,172 : INFO : worker thread finished; awaiting finish of 4 more threads\n",
            "2021-07-16 05:52:40,194 : INFO : worker thread finished; awaiting finish of 3 more threads\n",
            "2021-07-16 05:52:40,205 : INFO : worker thread finished; awaiting finish of 2 more threads\n",
            "2021-07-16 05:52:40,215 : INFO : worker thread finished; awaiting finish of 1 more threads\n",
            "2021-07-16 05:52:40,226 : INFO : worker thread finished; awaiting finish of 0 more threads\n",
            "2021-07-16 05:52:40,226 : INFO : EPOCH - 28 : training on 9227204 raw words (8222921 effective words) took 18.7s, 439473 effective words/s\n",
            "2021-07-16 05:52:41,323 : INFO : EPOCH 29 - PROGRESS: at 5.22% examples, 394184 words/s, in_qsize 15, out_qsize 0\n",
            "2021-07-16 05:52:42,368 : INFO : EPOCH 29 - PROGRESS: at 11.29% examples, 435016 words/s, in_qsize 16, out_qsize 0\n",
            "2021-07-16 05:52:43,436 : INFO : EPOCH 29 - PROGRESS: at 16.70% examples, 428982 words/s, in_qsize 16, out_qsize 0\n",
            "2021-07-16 05:52:44,437 : INFO : EPOCH 29 - PROGRESS: at 22.33% examples, 437065 words/s, in_qsize 15, out_qsize 1\n",
            "2021-07-16 05:52:45,476 : INFO : EPOCH 29 - PROGRESS: at 28.07% examples, 440497 words/s, in_qsize 15, out_qsize 0\n",
            "2021-07-16 05:52:46,530 : INFO : EPOCH 29 - PROGRESS: at 33.49% examples, 437454 words/s, in_qsize 16, out_qsize 1\n",
            "2021-07-16 05:52:47,547 : INFO : EPOCH 29 - PROGRESS: at 39.43% examples, 443632 words/s, in_qsize 15, out_qsize 0\n",
            "2021-07-16 05:52:48,587 : INFO : EPOCH 29 - PROGRESS: at 44.62% examples, 439568 words/s, in_qsize 12, out_qsize 3\n",
            "2021-07-16 05:52:49,603 : INFO : EPOCH 29 - PROGRESS: at 50.67% examples, 445227 words/s, in_qsize 15, out_qsize 0\n",
            "2021-07-16 05:52:50,616 : INFO : EPOCH 29 - PROGRESS: at 55.97% examples, 443822 words/s, in_qsize 15, out_qsize 0\n",
            "2021-07-16 05:52:51,654 : INFO : EPOCH 29 - PROGRESS: at 61.61% examples, 444036 words/s, in_qsize 16, out_qsize 1\n",
            "2021-07-16 05:52:52,722 : INFO : EPOCH 29 - PROGRESS: at 67.12% examples, 442411 words/s, in_qsize 15, out_qsize 0\n",
            "2021-07-16 05:52:53,744 : INFO : EPOCH 29 - PROGRESS: at 72.42% examples, 441257 words/s, in_qsize 15, out_qsize 0\n",
            "2021-07-16 05:52:54,842 : INFO : EPOCH 29 - PROGRESS: at 78.29% examples, 441006 words/s, in_qsize 15, out_qsize 0\n",
            "2021-07-16 05:52:55,863 : INFO : EPOCH 29 - PROGRESS: at 83.62% examples, 440157 words/s, in_qsize 15, out_qsize 0\n",
            "2021-07-16 05:52:56,873 : INFO : EPOCH 29 - PROGRESS: at 89.23% examples, 441248 words/s, in_qsize 15, out_qsize 0\n",
            "2021-07-16 05:52:57,952 : INFO : EPOCH 29 - PROGRESS: at 94.79% examples, 439995 words/s, in_qsize 10, out_qsize 5\n",
            "2021-07-16 05:52:58,710 : INFO : worker thread finished; awaiting finish of 7 more threads\n",
            "2021-07-16 05:52:58,727 : INFO : worker thread finished; awaiting finish of 6 more threads\n",
            "2021-07-16 05:52:58,728 : INFO : worker thread finished; awaiting finish of 5 more threads\n",
            "2021-07-16 05:52:58,730 : INFO : worker thread finished; awaiting finish of 4 more threads\n",
            "2021-07-16 05:52:58,734 : INFO : worker thread finished; awaiting finish of 3 more threads\n",
            "2021-07-16 05:52:58,779 : INFO : worker thread finished; awaiting finish of 2 more threads\n",
            "2021-07-16 05:52:58,790 : INFO : worker thread finished; awaiting finish of 1 more threads\n",
            "2021-07-16 05:52:58,792 : INFO : worker thread finished; awaiting finish of 0 more threads\n",
            "2021-07-16 05:52:58,793 : INFO : EPOCH - 29 : training on 9227204 raw words (8222393 effective words) took 18.6s, 443145 effective words/s\n",
            "2021-07-16 05:52:59,838 : INFO : EPOCH 30 - PROGRESS: at 4.78% examples, 381451 words/s, in_qsize 15, out_qsize 0\n",
            "2021-07-16 05:53:00,842 : INFO : EPOCH 30 - PROGRESS: at 10.21% examples, 412102 words/s, in_qsize 15, out_qsize 0\n",
            "2021-07-16 05:53:01,869 : INFO : EPOCH 30 - PROGRESS: at 15.41% examples, 415831 words/s, in_qsize 15, out_qsize 3\n",
            "2021-07-16 05:53:02,888 : INFO : EPOCH 30 - PROGRESS: at 20.92% examples, 421444 words/s, in_qsize 14, out_qsize 1\n",
            "2021-07-16 05:53:03,927 : INFO : EPOCH 30 - PROGRESS: at 26.67% examples, 428167 words/s, in_qsize 14, out_qsize 1\n",
            "2021-07-16 05:53:04,942 : INFO : EPOCH 30 - PROGRESS: at 31.75% examples, 425572 words/s, in_qsize 15, out_qsize 0\n",
            "2021-07-16 05:53:05,959 : INFO : EPOCH 30 - PROGRESS: at 37.27% examples, 428556 words/s, in_qsize 15, out_qsize 0\n",
            "2021-07-16 05:53:06,971 : INFO : EPOCH 30 - PROGRESS: at 42.78% examples, 431059 words/s, in_qsize 14, out_qsize 1\n",
            "2021-07-16 05:53:08,004 : INFO : EPOCH 30 - PROGRESS: at 48.08% examples, 431084 words/s, in_qsize 12, out_qsize 4\n",
            "2021-07-16 05:53:08,993 : INFO : EPOCH 30 - PROGRESS: at 53.38% examples, 431222 words/s, in_qsize 13, out_qsize 2\n",
            "2021-07-16 05:53:09,994 : INFO : EPOCH 30 - PROGRESS: at 59.01% examples, 434077 words/s, in_qsize 15, out_qsize 0\n",
            "2021-07-16 05:53:11,004 : INFO : EPOCH 30 - PROGRESS: at 64.19% examples, 433201 words/s, in_qsize 15, out_qsize 0\n",
            "2021-07-16 05:53:12,016 : INFO : EPOCH 30 - PROGRESS: at 69.40% examples, 432390 words/s, in_qsize 16, out_qsize 0\n",
            "2021-07-16 05:53:13,045 : INFO : EPOCH 30 - PROGRESS: at 75.02% examples, 433641 words/s, in_qsize 16, out_qsize 1\n",
            "2021-07-16 05:53:14,075 : INFO : EPOCH 30 - PROGRESS: at 80.90% examples, 435883 words/s, in_qsize 15, out_qsize 0\n",
            "2021-07-16 05:53:15,089 : INFO : EPOCH 30 - PROGRESS: at 86.42% examples, 436613 words/s, in_qsize 16, out_qsize 0\n",
            "2021-07-16 05:53:16,108 : INFO : EPOCH 30 - PROGRESS: at 92.28% examples, 438680 words/s, in_qsize 14, out_qsize 0\n",
            "2021-07-16 05:53:17,130 : INFO : EPOCH 30 - PROGRESS: at 97.28% examples, 437012 words/s, in_qsize 12, out_qsize 4\n",
            "2021-07-16 05:53:17,448 : INFO : worker thread finished; awaiting finish of 7 more threads\n",
            "2021-07-16 05:53:17,474 : INFO : worker thread finished; awaiting finish of 6 more threads\n",
            "2021-07-16 05:53:17,477 : INFO : worker thread finished; awaiting finish of 5 more threads\n",
            "2021-07-16 05:53:17,487 : INFO : worker thread finished; awaiting finish of 4 more threads\n",
            "2021-07-16 05:53:17,489 : INFO : worker thread finished; awaiting finish of 3 more threads\n",
            "2021-07-16 05:53:17,493 : INFO : worker thread finished; awaiting finish of 2 more threads\n",
            "2021-07-16 05:53:17,511 : INFO : worker thread finished; awaiting finish of 1 more threads\n",
            "2021-07-16 05:53:17,519 : INFO : worker thread finished; awaiting finish of 0 more threads\n",
            "2021-07-16 05:53:17,520 : INFO : EPOCH - 30 : training on 9227204 raw words (8221174 effective words) took 18.7s, 439430 effective words/s\n",
            "2021-07-16 05:53:18,574 : INFO : EPOCH 31 - PROGRESS: at 4.67% examples, 367454 words/s, in_qsize 15, out_qsize 0\n",
            "2021-07-16 05:53:19,588 : INFO : EPOCH 31 - PROGRESS: at 9.66% examples, 385676 words/s, in_qsize 15, out_qsize 0\n",
            "2021-07-16 05:53:20,646 : INFO : EPOCH 31 - PROGRESS: at 14.97% examples, 394681 words/s, in_qsize 16, out_qsize 0\n",
            "2021-07-16 05:53:21,708 : INFO : EPOCH 31 - PROGRESS: at 20.38% examples, 400881 words/s, in_qsize 9, out_qsize 6\n",
            "2021-07-16 05:53:22,733 : INFO : EPOCH 31 - PROGRESS: at 26.45% examples, 417819 words/s, in_qsize 14, out_qsize 1\n",
            "2021-07-16 05:53:23,744 : INFO : EPOCH 31 - PROGRESS: at 32.52% examples, 430182 words/s, in_qsize 15, out_qsize 0\n",
            "2021-07-16 05:53:24,759 : INFO : EPOCH 31 - PROGRESS: at 37.81% examples, 430178 words/s, in_qsize 16, out_qsize 0\n",
            "2021-07-16 05:53:25,760 : INFO : EPOCH 31 - PROGRESS: at 43.32% examples, 433000 words/s, in_qsize 15, out_qsize 0\n",
            "2021-07-16 05:53:26,805 : INFO : EPOCH 31 - PROGRESS: at 48.73% examples, 432253 words/s, in_qsize 16, out_qsize 1\n",
            "2021-07-16 05:53:27,817 : INFO : EPOCH 31 - PROGRESS: at 54.78% examples, 438292 words/s, in_qsize 15, out_qsize 0\n",
            "2021-07-16 05:53:28,866 : INFO : EPOCH 31 - PROGRESS: at 60.52% examples, 439381 words/s, in_qsize 15, out_qsize 0\n",
            "2021-07-16 05:53:29,876 : INFO : EPOCH 31 - PROGRESS: at 65.93% examples, 439503 words/s, in_qsize 15, out_qsize 4\n",
            "2021-07-16 05:53:30,896 : INFO : EPOCH 31 - PROGRESS: at 71.99% examples, 443278 words/s, in_qsize 15, out_qsize 0\n",
            "2021-07-16 05:53:31,962 : INFO : EPOCH 31 - PROGRESS: at 77.96% examples, 444495 words/s, in_qsize 15, out_qsize 0\n",
            "2021-07-16 05:53:33,027 : INFO : EPOCH 31 - PROGRESS: at 83.94% examples, 445559 words/s, in_qsize 15, out_qsize 0\n",
            "2021-07-16 05:53:34,068 : INFO : EPOCH 31 - PROGRESS: at 89.89% examples, 447122 words/s, in_qsize 13, out_qsize 2\n",
            "2021-07-16 05:53:35,085 : INFO : EPOCH 31 - PROGRESS: at 95.77% examples, 448575 words/s, in_qsize 15, out_qsize 0\n",
            "2021-07-16 05:53:35,669 : INFO : worker thread finished; awaiting finish of 7 more threads\n",
            "2021-07-16 05:53:35,691 : INFO : worker thread finished; awaiting finish of 6 more threads\n",
            "2021-07-16 05:53:35,698 : INFO : worker thread finished; awaiting finish of 5 more threads\n",
            "2021-07-16 05:53:35,725 : INFO : worker thread finished; awaiting finish of 4 more threads\n",
            "2021-07-16 05:53:35,727 : INFO : worker thread finished; awaiting finish of 3 more threads\n",
            "2021-07-16 05:53:35,739 : INFO : worker thread finished; awaiting finish of 2 more threads\n",
            "2021-07-16 05:53:35,747 : INFO : worker thread finished; awaiting finish of 1 more threads\n",
            "2021-07-16 05:53:35,757 : INFO : worker thread finished; awaiting finish of 0 more threads\n",
            "2021-07-16 05:53:35,758 : INFO : EPOCH - 31 : training on 9227204 raw words (8222440 effective words) took 18.2s, 451127 effective words/s\n",
            "2021-07-16 05:53:36,781 : INFO : EPOCH 32 - PROGRESS: at 5.11% examples, 414626 words/s, in_qsize 13, out_qsize 2\n",
            "2021-07-16 05:53:37,801 : INFO : EPOCH 32 - PROGRESS: at 10.86% examples, 438837 words/s, in_qsize 16, out_qsize 2\n",
            "2021-07-16 05:53:38,820 : INFO : EPOCH 32 - PROGRESS: at 16.59% examples, 446968 words/s, in_qsize 14, out_qsize 1\n",
            "2021-07-16 05:53:39,853 : INFO : EPOCH 32 - PROGRESS: at 22.33% examples, 449534 words/s, in_qsize 12, out_qsize 3\n",
            "2021-07-16 05:53:40,902 : INFO : EPOCH 32 - PROGRESS: at 28.40% examples, 454915 words/s, in_qsize 13, out_qsize 2\n",
            "2021-07-16 05:53:41,927 : INFO : EPOCH 32 - PROGRESS: at 34.13% examples, 455843 words/s, in_qsize 14, out_qsize 1\n",
            "2021-07-16 05:53:42,985 : INFO : EPOCH 32 - PROGRESS: at 39.86% examples, 454472 words/s, in_qsize 14, out_qsize 5\n",
            "2021-07-16 05:53:43,991 : INFO : EPOCH 32 - PROGRESS: at 45.26% examples, 452993 words/s, in_qsize 15, out_qsize 0\n",
            "2021-07-16 05:53:45,037 : INFO : EPOCH 32 - PROGRESS: at 51.10% examples, 453846 words/s, in_qsize 15, out_qsize 0\n",
            "2021-07-16 05:53:46,090 : INFO : EPOCH 32 - PROGRESS: at 57.06% examples, 454983 words/s, in_qsize 15, out_qsize 0\n",
            "2021-07-16 05:53:47,098 : INFO : EPOCH 32 - PROGRESS: at 62.57% examples, 454915 words/s, in_qsize 14, out_qsize 3\n",
            "2021-07-16 05:53:48,125 : INFO : EPOCH 32 - PROGRESS: at 68.31% examples, 455046 words/s, in_qsize 14, out_qsize 1\n",
            "2021-07-16 05:53:49,175 : INFO : EPOCH 32 - PROGRESS: at 74.48% examples, 457257 words/s, in_qsize 14, out_qsize 1\n",
            "2021-07-16 05:53:50,176 : INFO : EPOCH 32 - PROGRESS: at 80.25% examples, 458273 words/s, in_qsize 16, out_qsize 3\n",
            "2021-07-16 05:53:51,264 : INFO : EPOCH 32 - PROGRESS: at 85.34% examples, 453106 words/s, in_qsize 16, out_qsize 1\n",
            "2021-07-16 05:53:52,271 : INFO : EPOCH 32 - PROGRESS: at 90.98% examples, 453494 words/s, in_qsize 15, out_qsize 0\n",
            "2021-07-16 05:53:53,276 : INFO : EPOCH 32 - PROGRESS: at 96.31% examples, 452392 words/s, in_qsize 14, out_qsize 1\n",
            "2021-07-16 05:53:53,804 : INFO : worker thread finished; awaiting finish of 7 more threads\n",
            "2021-07-16 05:53:53,816 : INFO : worker thread finished; awaiting finish of 6 more threads\n",
            "2021-07-16 05:53:53,825 : INFO : worker thread finished; awaiting finish of 5 more threads\n",
            "2021-07-16 05:53:53,837 : INFO : worker thread finished; awaiting finish of 4 more threads\n",
            "2021-07-16 05:53:53,849 : INFO : worker thread finished; awaiting finish of 3 more threads\n",
            "2021-07-16 05:53:53,852 : INFO : worker thread finished; awaiting finish of 2 more threads\n",
            "2021-07-16 05:53:53,854 : INFO : worker thread finished; awaiting finish of 1 more threads\n",
            "2021-07-16 05:53:53,861 : INFO : worker thread finished; awaiting finish of 0 more threads\n",
            "2021-07-16 05:53:53,863 : INFO : EPOCH - 32 : training on 9227204 raw words (8222851 effective words) took 18.1s, 454515 effective words/s\n",
            "2021-07-16 05:53:53,864 : INFO : Word2Vec lifecycle event {'msg': 'training on 295270528 raw words (263126287 effective words) took 585.5s, 449423 effective words/s', 'datetime': '2021-07-16T05:53:53.864481', 'gensim': '4.0.1', 'python': '3.7.10 (default, May  3 2021, 02:48:31) \\n[GCC 7.5.0]', 'platform': 'Linux-5.4.104+-x86_64-with-Ubuntu-18.04-bionic', 'event': 'train'}\n"
          ],
          "name": "stderr"
        },
        {
          "output_type": "stream",
          "text": [
            "CPU times: user 18min 53s, sys: 5.54 s, total: 18min 59s\n",
            "Wall time: 9min 45s\n"
          ],
          "name": "stdout"
        },
        {
          "output_type": "execute_result",
          "data": {
            "text/plain": [
              "(263126287, 295270528)"
            ]
          },
          "metadata": {
            "tags": []
          },
          "execution_count": 35
        }
      ]
    },
    {
      "cell_type": "code",
      "metadata": {
        "colab": {
          "base_uri": "https://localhost:8080/"
        },
        "id": "uns5X7Li1_Az",
        "outputId": "c0ac0fde-91ee-43dc-c141-a63df356647f"
      },
      "source": [
        "tokenizer = Tokenizer()\n",
        "tokenizer.fit_on_texts(df_train.text)\n",
        "\n",
        "vocab_size = len(tokenizer.word_index) + 1\n",
        "print(\"Total words\", vocab_size)"
      ],
      "execution_count": 36,
      "outputs": [
        {
          "output_type": "stream",
          "text": [
            "Total words 290419\n"
          ],
          "name": "stdout"
        }
      ]
    },
    {
      "cell_type": "code",
      "metadata": {
        "colab": {
          "base_uri": "https://localhost:8080/"
        },
        "id": "5Axvc3zd2U8b",
        "outputId": "004e0d4e-b0dc-41b7-fc17-3a07016e30a8"
      },
      "source": [
        "%%time\n",
        "x_train = pad_sequences(tokenizer.texts_to_sequences(df_train.text), maxlen=SEQUENCE_LENGTH)\n",
        "x_test = pad_sequences(tokenizer.texts_to_sequences(df_test.text), maxlen=SEQUENCE_LENGTH)"
      ],
      "execution_count": 37,
      "outputs": [
        {
          "output_type": "stream",
          "text": [
            "CPU times: user 24.3 s, sys: 891 ms, total: 25.2 s\n",
            "Wall time: 24.8 s\n"
          ],
          "name": "stdout"
        }
      ]
    },
    {
      "cell_type": "code",
      "metadata": {
        "colab": {
          "base_uri": "https://localhost:8080/"
        },
        "id": "I6PaCJUh2YsD",
        "outputId": "e903d1ef-9259-4cd3-bc75-925b023d5114"
      },
      "source": [
        "labels = df_train.target.unique().tolist()\n",
        "labels.append(NEUTRAL)\n",
        "labels"
      ],
      "execution_count": 38,
      "outputs": [
        {
          "output_type": "execute_result",
          "data": {
            "text/plain": [
              "['POSITIVE', 'NEGATIVE', 'NEUTRAL']"
            ]
          },
          "metadata": {
            "tags": []
          },
          "execution_count": 38
        }
      ]
    },
    {
      "cell_type": "code",
      "metadata": {
        "colab": {
          "base_uri": "https://localhost:8080/"
        },
        "id": "gcH-FHFN2brg",
        "outputId": "a098a73d-6584-4447-e0ec-b484e527a203"
      },
      "source": [
        "encoder = LabelEncoder()\n",
        "encoder.fit(df_train.target.tolist())\n",
        "\n",
        "y_train = encoder.transform(df_train.target.tolist())\n",
        "y_test = encoder.transform(df_test.target.tolist())\n",
        "\n",
        "y_train = y_train.reshape(-1,1)\n",
        "y_test = y_test.reshape(-1,1)\n",
        "\n",
        "print(\"y_train\",y_train.shape)\n",
        "print(\"y_test\",y_test.shape)"
      ],
      "execution_count": 39,
      "outputs": [
        {
          "output_type": "stream",
          "text": [
            "y_train (1280000, 1)\n",
            "y_test (320000, 1)\n"
          ],
          "name": "stdout"
        }
      ]
    },
    {
      "cell_type": "code",
      "metadata": {
        "colab": {
          "base_uri": "https://localhost:8080/"
        },
        "id": "KIpbfUkl2ee8",
        "outputId": "85099f6d-60f5-424b-9d7b-2daebe238ac1"
      },
      "source": [
        "print(\"x_train\", x_train.shape)\n",
        "print(\"y_train\", y_train.shape)\n",
        "print()\n",
        "print(\"x_test\", x_test.shape)\n",
        "print(\"y_test\", y_test.shape)\n",
        "y_train[:10]"
      ],
      "execution_count": 40,
      "outputs": [
        {
          "output_type": "stream",
          "text": [
            "x_train (1280000, 300)\n",
            "y_train (1280000, 1)\n",
            "\n",
            "x_test (320000, 300)\n",
            "y_test (320000, 1)\n"
          ],
          "name": "stdout"
        },
        {
          "output_type": "execute_result",
          "data": {
            "text/plain": [
              "array([[1],\n",
              "       [1],\n",
              "       [1],\n",
              "       [0],\n",
              "       [1],\n",
              "       [1],\n",
              "       [1],\n",
              "       [1],\n",
              "       [1],\n",
              "       [1]])"
            ]
          },
          "metadata": {
            "tags": []
          },
          "execution_count": 40
        }
      ]
    },
    {
      "cell_type": "code",
      "metadata": {
        "colab": {
          "base_uri": "https://localhost:8080/"
        },
        "id": "a9xpsm1Y2k8C",
        "outputId": "ff102056-087f-4163-9c5b-ebf2c17fca8d"
      },
      "source": [
        "embedding_matrix = np.zeros((vocab_size, W2V_SIZE))\n",
        "for word, i in tokenizer.word_index.items():\n",
        "  if word in w2v_model.wv:\n",
        "    embedding_matrix[i] = w2v_model.wv[word]\n",
        "print(embedding_matrix.shape)"
      ],
      "execution_count": 41,
      "outputs": [
        {
          "output_type": "stream",
          "text": [
            "(290419, 300)\n"
          ],
          "name": "stdout"
        }
      ]
    },
    {
      "cell_type": "code",
      "metadata": {
        "id": "d6cK56b13Np6"
      },
      "source": [
        "embedding_layer = Embedding(vocab_size, W2V_SIZE, weights=[embedding_matrix], input_length=SEQUENCE_LENGTH, trainable=False)"
      ],
      "execution_count": 42,
      "outputs": []
    },
    {
      "cell_type": "code",
      "metadata": {
        "colab": {
          "base_uri": "https://localhost:8080/"
        },
        "id": "9-Gvlp5I3QHV",
        "outputId": "88d865dc-b36d-4073-9e54-42c6de49fdd7"
      },
      "source": [
        "model = Sequential()\n",
        "model.add(embedding_layer)\n",
        "model.add(Dropout(0.5))\n",
        "model.add(LSTM(100, dropout=0.2, recurrent_dropout=0.2))\n",
        "model.add(Dense(1, activation='sigmoid'))\n",
        "\n",
        "model.summary()"
      ],
      "execution_count": 43,
      "outputs": [
        {
          "output_type": "stream",
          "text": [
            "WARNING:tensorflow:Layer lstm will not use cuDNN kernels since it doesn't meet the criteria. It will use a generic GPU kernel as fallback when running on GPU.\n"
          ],
          "name": "stdout"
        },
        {
          "output_type": "stream",
          "text": [
            "2021-07-16 05:55:10,696 : WARNING : Layer lstm will not use cuDNN kernels since it doesn't meet the criteria. It will use a generic GPU kernel as fallback when running on GPU.\n"
          ],
          "name": "stderr"
        },
        {
          "output_type": "stream",
          "text": [
            "Model: \"sequential\"\n",
            "_________________________________________________________________\n",
            "Layer (type)                 Output Shape              Param #   \n",
            "=================================================================\n",
            "embedding (Embedding)        (None, 300, 300)          87125700  \n",
            "_________________________________________________________________\n",
            "dropout (Dropout)            (None, 300, 300)          0         \n",
            "_________________________________________________________________\n",
            "lstm (LSTM)                  (None, 100)               160400    \n",
            "_________________________________________________________________\n",
            "dense (Dense)                (None, 1)                 101       \n",
            "=================================================================\n",
            "Total params: 87,286,201\n",
            "Trainable params: 160,501\n",
            "Non-trainable params: 87,125,700\n",
            "_________________________________________________________________\n"
          ],
          "name": "stdout"
        }
      ]
    },
    {
      "cell_type": "code",
      "metadata": {
        "id": "Gf1JLIZb3TKv"
      },
      "source": [
        "model.compile(loss='binary_crossentropy',\n",
        "              optimizer=\"adam\",\n",
        "              metrics=['accuracy'])"
      ],
      "execution_count": 44,
      "outputs": []
    },
    {
      "cell_type": "code",
      "metadata": {
        "id": "SwPkcEZe3VTy"
      },
      "source": [
        "callbacks = [ ReduceLROnPlateau(monitor='val_loss', patience=5, cooldown=0),\n",
        "              EarlyStopping(monitor='val_acc', min_delta=1e-4, patience=5)]"
      ],
      "execution_count": 45,
      "outputs": []
    },
    {
      "cell_type": "code",
      "metadata": {
        "colab": {
          "base_uri": "https://localhost:8080/"
        },
        "id": "a423Yw3C3XsW",
        "outputId": "dcf393a8-f5a5-4aff-e64d-d97c91529733"
      },
      "source": [
        "%%time\n",
        "history = model.fit(x_train, y_train,\n",
        "                    batch_size=BATCH_SIZE,\n",
        "                    epochs=EPOCHS,\n",
        "                    validation_split=0.1,\n",
        "                    verbose=1,\n",
        "                    callbacks=callbacks)"
      ],
      "execution_count": null,
      "outputs": [
        {
          "output_type": "stream",
          "text": [
            "Epoch 1/8\n",
            "1125/1125 [==============================] - 728s 627ms/step - loss: 0.5269 - accuracy: 0.7321 - val_loss: 0.4659 - val_accuracy: 0.7802\n",
            "WARNING:tensorflow:Early stopping conditioned on metric `val_acc` which is not available. Available metrics are: loss,accuracy,val_loss,val_accuracy,lr\n"
          ],
          "name": "stdout"
        },
        {
          "output_type": "stream",
          "text": [
            "2021-07-16 06:07:32,604 : WARNING : Early stopping conditioned on metric `val_acc` which is not available. Available metrics are: loss,accuracy,val_loss,val_accuracy,lr\n"
          ],
          "name": "stderr"
        },
        {
          "output_type": "stream",
          "text": [
            "Epoch 2/8\n",
            "1125/1125 [==============================] - 690s 613ms/step - loss: 0.4803 - accuracy: 0.7667 - val_loss: 0.4576 - val_accuracy: 0.7845\n",
            "WARNING:tensorflow:Early stopping conditioned on metric `val_acc` which is not available. Available metrics are: loss,accuracy,val_loss,val_accuracy,lr\n"
          ],
          "name": "stdout"
        },
        {
          "output_type": "stream",
          "text": [
            "2021-07-16 06:19:02,259 : WARNING : Early stopping conditioned on metric `val_acc` which is not available. Available metrics are: loss,accuracy,val_loss,val_accuracy,lr\n"
          ],
          "name": "stderr"
        },
        {
          "output_type": "stream",
          "text": [
            "Epoch 3/8\n",
            "1125/1125 [==============================] - 678s 602ms/step - loss: 0.4727 - accuracy: 0.7711 - val_loss: 0.4539 - val_accuracy: 0.7883\n",
            "WARNING:tensorflow:Early stopping conditioned on metric `val_acc` which is not available. Available metrics are: loss,accuracy,val_loss,val_accuracy,lr\n"
          ],
          "name": "stdout"
        },
        {
          "output_type": "stream",
          "text": [
            "2021-07-16 06:30:19,931 : WARNING : Early stopping conditioned on metric `val_acc` which is not available. Available metrics are: loss,accuracy,val_loss,val_accuracy,lr\n"
          ],
          "name": "stderr"
        },
        {
          "output_type": "stream",
          "text": [
            "Epoch 4/8\n",
            "1125/1125 [==============================] - 667s 593ms/step - loss: 0.4674 - accuracy: 0.7746 - val_loss: 0.4516 - val_accuracy: 0.7888\n",
            "WARNING:tensorflow:Early stopping conditioned on metric `val_acc` which is not available. Available metrics are: loss,accuracy,val_loss,val_accuracy,lr\n"
          ],
          "name": "stdout"
        },
        {
          "output_type": "stream",
          "text": [
            "2021-07-16 06:41:27,279 : WARNING : Early stopping conditioned on metric `val_acc` which is not available. Available metrics are: loss,accuracy,val_loss,val_accuracy,lr\n"
          ],
          "name": "stderr"
        },
        {
          "output_type": "stream",
          "text": [
            "Epoch 5/8\n",
            "1125/1125 [==============================] - 669s 595ms/step - loss: 0.4643 - accuracy: 0.7768 - val_loss: 0.4513 - val_accuracy: 0.7896\n",
            "WARNING:tensorflow:Early stopping conditioned on metric `val_acc` which is not available. Available metrics are: loss,accuracy,val_loss,val_accuracy,lr\n"
          ],
          "name": "stdout"
        },
        {
          "output_type": "stream",
          "text": [
            "2021-07-16 06:52:36,456 : WARNING : Early stopping conditioned on metric `val_acc` which is not available. Available metrics are: loss,accuracy,val_loss,val_accuracy,lr\n"
          ],
          "name": "stderr"
        },
        {
          "output_type": "stream",
          "text": [
            "Epoch 6/8\n",
            "1125/1125 [==============================] - 661s 588ms/step - loss: 0.4628 - accuracy: 0.7784 - val_loss: 0.4491 - val_accuracy: 0.7899\n",
            "WARNING:tensorflow:Early stopping conditioned on metric `val_acc` which is not available. Available metrics are: loss,accuracy,val_loss,val_accuracy,lr\n"
          ],
          "name": "stdout"
        },
        {
          "output_type": "stream",
          "text": [
            "2021-07-16 07:03:37,877 : WARNING : Early stopping conditioned on metric `val_acc` which is not available. Available metrics are: loss,accuracy,val_loss,val_accuracy,lr\n"
          ],
          "name": "stderr"
        },
        {
          "output_type": "stream",
          "text": [
            "Epoch 7/8\n",
            "1125/1125 [==============================] - 657s 584ms/step - loss: 0.4620 - accuracy: 0.7782 - val_loss: 0.4467 - val_accuracy: 0.7907\n",
            "WARNING:tensorflow:Early stopping conditioned on metric `val_acc` which is not available. Available metrics are: loss,accuracy,val_loss,val_accuracy,lr\n"
          ],
          "name": "stdout"
        },
        {
          "output_type": "stream",
          "text": [
            "2021-07-16 07:14:34,935 : WARNING : Early stopping conditioned on metric `val_acc` which is not available. Available metrics are: loss,accuracy,val_loss,val_accuracy,lr\n"
          ],
          "name": "stderr"
        },
        {
          "output_type": "stream",
          "text": [
            "Epoch 8/8\n",
            " 104/1125 [=>............................] - ETA: 9:38 - loss: 0.4567 - accuracy: 0.7800"
          ],
          "name": "stdout"
        }
      ]
    },
    {
      "cell_type": "code",
      "metadata": {
        "id": "il3WbUdY3bIg"
      },
      "source": [
        "%%time\n",
        "score = model.evaluate(x_test, y_test, batch_size=BATCH_SIZE)\n",
        "print()\n",
        "print(\"ACCURACY:\",score[1])\n",
        "print(\"LOSS:\",score[0])"
      ],
      "execution_count": null,
      "outputs": []
    },
    {
      "cell_type": "code",
      "metadata": {
        "id": "qrRHyMq63e8K"
      },
      "source": [
        "acc = history.history['acc']\n",
        "val_acc = history.history['val_acc']\n",
        "loss = history.history['loss']\n",
        "val_loss = history.history['val_loss']\n",
        " \n",
        "epochs = range(len(acc))\n",
        " \n",
        "plt.plot(epochs, acc, 'b', label='Training acc')\n",
        "plt.plot(epochs, val_acc, 'r', label='Validation acc')\n",
        "plt.title('Training and validation accuracy')\n",
        "plt.legend()\n",
        " \n",
        "plt.figure()\n",
        " \n",
        "plt.plot(epochs, loss, 'b', label='Training loss')\n",
        "plt.plot(epochs, val_loss, 'r', label='Validation loss')\n",
        "plt.title('Training and validation loss')\n",
        "plt.legend()\n",
        " \n",
        "plt.show()"
      ],
      "execution_count": null,
      "outputs": []
    },
    {
      "cell_type": "code",
      "metadata": {
        "id": "F-fAF7QG3h3y"
      },
      "source": [
        "def decode_sentiment(score, include_neutral=True):\n",
        "    if include_neutral:        \n",
        "        label = NEUTRAL\n",
        "        if score <= SENTIMENT_THRESHOLDS[0]:\n",
        "            label = NEGATIVE\n",
        "        elif score >= SENTIMENT_THRESHOLDS[1]:\n",
        "            label = POSITIVE\n",
        "\n",
        "        return label\n",
        "    else:\n",
        "        return NEGATIVE if score < 0.5 else POSITIVE"
      ],
      "execution_count": null,
      "outputs": []
    },
    {
      "cell_type": "code",
      "metadata": {
        "id": "knkybwfh3l0H"
      },
      "source": [
        "def predict(text, include_neutral=True):\n",
        "    start_at = time.time()\n",
        "    # Tokenize text\n",
        "    x_test = pad_sequences(tokenizer.texts_to_sequences([text]), maxlen=SEQUENCE_LENGTH)\n",
        "    # Predict\n",
        "    score = model.predict([x_test])[0]\n",
        "    # Decode sentiment\n",
        "    label = decode_sentiment(score, include_neutral=include_neutral)\n",
        "\n",
        "    return {\"label\": label, \"score\": float(score),\n",
        "       \"elapsed_time\": time.time()-start_at} "
      ],
      "execution_count": null,
      "outputs": []
    }
  ]
}